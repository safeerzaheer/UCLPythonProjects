{
 "cells": [
  {
   "cell_type": "markdown",
   "metadata": {},
   "source": [
    "# PHAS0007 Reading Week assignment: Supplementary notebook\n",
    "\n",
    "Authors: Louise Dash, Ben Waugh\n",
    "\n",
    "Last updated: 2020-11-08\n",
    "\n",
    "This notebook contains the following:\n",
    "\n",
    "* The equations from the script for the Reading Week assignment, already typeset for you\n",
    "* The code snippet you will need to paste for the curve_fit question\n",
    "* An example of how to reference using the Harvard style within a Jupyter Notebook.\n",
    "\n",
    "## Equations for the Reading Week assignment\n",
    "\n",
    "You may copy and paste these equations into your own notebook as required (in which case make sure this notebook is included in your list of references). You should also make sure these equations are suitably referenced, i.e. include a reference either to the script (Dash and Lemos, 2019) or to the appropriate section of Hughes and Hase (Hughes and Hase, 2010), etc.\n"
   ]
  },
  {
   "cell_type": "markdown",
   "metadata": {},
   "source": [
    "Equation (1):\n",
    "$$ v = H_0 D $$ \n",
    "\n",
    "Equation (2): \n",
    "$$ w_i = \\frac{1}{(\\Delta y_i)^2} $$\n",
    "\n",
    "Equations (3,4): \n",
    "$$  m = \\frac{\\sum_i w_i \\sum_i w_i x_i y_i - \\sum_i w_i x_i \\sum_i w_i\n",
    "y_i}{\\sum_i w_i \\sum_i w_i x_i^2 - \\left(\\sum_i w_i x_i \\right)^2}\\\\\n",
    "= \\frac{\\sum_i w_i \\sum_i w_i x_i y_i - \\sum_i w_i x_i \\sum_i w_i\n",
    "y_i}{\\delta} $$\n",
    "    \n",
    "Equation (5):\n",
    "$$ c = \\frac{\\sum_i w_i x_i^2 \\sum_i w_i y_i - \\sum_i w_i x_i \\sum_i w_i x_i y_i}{\\delta} $$\n",
    "\n",
    "Equation (6):\n",
    "$$ \\delta = \\sum_i w_i \\sum_i w_i x_i^2 - \\left(\\sum_i w_i x_i \\right)^2 $$\n",
    "\n",
    "Equation (7): \n",
    "$$ \\Delta m = \\sqrt{ \\frac{\\sum_i w_i}{\\delta}} $$\n",
    "\n",
    "Equation (8):\n",
    "$$ \\Delta c = \\sqrt{ \\frac{\\sum_i x_i^2 w_i}{\\delta}} $$\n",
    "\n"
   ]
  },
  {
   "cell_type": "markdown",
   "metadata": {},
   "source": [
    "## Code examples for polyfit"
   ]
  },
  {
   "cell_type": "markdown",
   "metadata": {},
   "source": [
    "Setting things up for all our fitting examples:"
   ]
  },
  {
   "cell_type": "code",
   "execution_count": 1,
   "metadata": {},
   "outputs": [],
   "source": [
    "import numpy as np\n",
    "import matplotlib.pyplot as plt\n",
    "%matplotlib inline\n",
    "\n",
    "# The (x,y) data to fit, and errors on y:\n",
    "x  = np.array([0, 1, 2, 3, 4])\n",
    "y  = np.array([-1, 0.2, 0.9, 2.1, 3.8])\n",
    "dy = np.array([0.2, 0.3, 0.4, 0.3, 0.45])"
   ]
  },
  {
   "cell_type": "markdown",
   "metadata": {},
   "source": [
    "### Unweighted fit"
   ]
  },
  {
   "cell_type": "code",
   "execution_count": 2,
   "metadata": {},
   "outputs": [
    {
     "name": "stdout",
     "output_type": "stream",
     "text": [
      "slope = 1.15 ± 0.10\n",
      "y-intercept = -1.10 ± 0.23\n"
     ]
    },
    {
     "data": {
      "image/png": "[encoded data removed]",
      "text/plain": [
       "<Figure size 432x288 with 1 Axes>"
      ]
     },
     "metadata": {
      "needs_background": "light"
     },
     "output_type": "display_data"
    }
   ],
   "source": [
    "# Adapted from code by I. Llorente-Garcia, UCL Physics and Astronomy\n",
    "# \"Script for linear fitting using Python\"\n",
    "# https://moodle.ucl.ac.uk/course/view.php?id=16941&section=4\n",
    "\n",
    "# Fit to a line ax+b (a line is a first-order polynomial).\n",
    "# We will obtain the uncertainties of slope and intercept from the covariance matrix.\n",
    "# Degree of polynomial we want to fit, use 1 for a line:\n",
    "degree = 1 \n",
    "fit, cvm = np.polyfit(x,y,degree,cov=True) # fit function\n",
    "# Outputs of np.polyfit are fit parameters (fit) and covariance matrix (cvm)\n",
    "# The slope is the first element of fit: a = fit[0].\n",
    "# The intercept is the second element of fit: b = fit[1].\n",
    "# To obtain the uncertainties of fit parameters we get the diagonal elements\n",
    "# of the covariance matrix:\n",
    "dfit = [np.sqrt(cvm[i,i]) for i in range(2)] \n",
    "# The error of the slope is dfit[0].\n",
    "# The error of the intercept is dfit[1].\n",
    "# Print fit parameters with their errors (to 2 decimal places):\n",
    "print(u\"slope = {0:0.2f} \\xb1 {1:0.2f}\".format(fit[0], dfit[0]))\n",
    "print(u\"y-intercept = {0:0.2f} \\xb1 {1:0.2f}\".format(fit[1], dfit[1]))\n",
    "\n",
    "# Plot the data points together with the fit:\n",
    "xline = np.array([0, 5]) #create array to plot fitted line\n",
    "yline = fit[0]*xline + fit[1] #calculate fitted line for every xfit point\n",
    "plt.plot(x, y, 'ro', label=\"data\")\n",
    "plt.plot(xline, yline, zorder=-1, label=\"fit to ax+b\")\n",
    "plt.legend(loc=\"best\")\n",
    "plt.xlabel('x')\n",
    "plt.ylabel('y')\n",
    "plt.show()"
   ]
  },
  {
   "cell_type": "markdown",
   "metadata": {},
   "source": [
    "### Weighted fit"
   ]
  },
  {
   "cell_type": "code",
   "execution_count": 3,
   "metadata": {},
   "outputs": [
    {
     "name": "stdout",
     "output_type": "stream",
     "text": [
      "slope = 1.10 ± 0.09\n",
      "y-intercept = -1.02 ± 0.18\n"
     ]
    },
    {
     "data": {
      "image/png": "[encoded data removed]",
      "text/plain": [
       "<Figure size 432x288 with 1 Axes>"
      ]
     },
     "metadata": {
      "needs_background": "light"
     },
     "output_type": "display_data"
    }
   ],
   "source": [
    "# First calculate the weights for the y coordinate. \n",
    "# Enter errors as an array of 1/sigma for Gaussian uncertainties (not 1/sigma**2):\n",
    "yErrors = 1/dy\n",
    "# Perform weighted fit: fit = parameters, cvm = covariance matrix\n",
    "fit, cvm = np.polyfit(x,y,degree,w=yErrors,cov='unscaled')\n",
    "# Outputs and errors of fitted parameters are same as before.\n",
    "dfit = [np.sqrt(cvm[i,i]) for i in range(2)]\n",
    "# Print fit parameters with their errors (to 2 decimal places):\n",
    "print(u\"slope = {0:0.2f} \\xb1 {1:0.2f}\".format(fit[0], dfit[0]))\n",
    "print(u\"y-intercept = {0:0.2f} \\xb1 {1:0.2f}\".format(fit[1], dfit[1]))\n",
    "\n",
    "# Plot the data points together with the fit:\n",
    "xline = np.array([0, 5]) #create array to plot fitted line\n",
    "yline = fit[0]*xline + fit[1] #calculate fitted line for every xfit point\n",
    "# Plot points with error bars:\n",
    "plt.errorbar(x, y, yerr = dy, fmt=\"bo\", linewidth=1, capsize=3, label=\"data\")\n",
    "#plt.plot(x, y, 'ro', label=\"data\")\n",
    "plt.plot(xline, yline,'r', label=\"weighted fit to ax+b\")\n",
    "plt.legend(loc=\"best\")\n",
    "plt.xlabel('x')\n",
    "plt.ylabel('y')\n",
    "plt.show()"
   ]
  },
  {
   "cell_type": "markdown",
   "metadata": {},
   "source": [
    "## Code examples for curve_fit"
   ]
  },
  {
   "cell_type": "code",
   "execution_count": 4,
   "metadata": {},
   "outputs": [
    {
     "name": "stdout",
     "output_type": "stream",
     "text": [
      "poptUW :\n",
      " [ 1.15 -1.1 ]\n",
      "pcovUW :\n",
      " [[ 0.00916667 -0.01833333]\n",
      " [-0.01833333  0.055     ]]\n",
      "poptW :\n",
      " [ 1.09932649 -1.01642078]\n",
      "pcovW :\n",
      " [[ 0.00874022 -0.01147659]\n",
      " [-0.01147659  0.03218987]]\n"
     ]
    }
   ],
   "source": [
    "### Use scipy's curve_fit function to fit the data\n",
    "### Louise Dash, October 2019\n",
    "###\n",
    "\n",
    "from scipy.optimize import curve_fit # we're importing just this one function from scipy.optimize\n",
    "\n",
    "# The code below (lines 9-16) is a function. We'll be covering functions after reading week.\n",
    "\n",
    "def straight_line(x,m,c):\n",
    "    \"\"\"Calculates a straight line y = mx+c\n",
    "    Inputs: x value (or set of x values)\n",
    "            gradient of straight line m\n",
    "            y-intercept of straight line c\n",
    "    Returns: the corresponding y value(s)\"\"\"\n",
    "    y = m*x + c # equation for straight line\n",
    "    return y\n",
    "\n",
    "# Unweighted fit:\n",
    "# poptUW: Optimized parameters for the unweighted fit\n",
    "# pcovUW: matrix of covariance for the unweighted fit\n",
    "#   xi, yi: rename these to whatever variable names you have used\n",
    "#   for your x and y data respectively.  \n",
    "poptUW,pcovUW = curve_fit(straight_line,x,y)\n",
    "print (\"poptUW :\\n\", poptUW)\n",
    "print (\"pcovUW :\\n\", pcovUW)\n",
    "\n",
    "# Weighted fit\n",
    "# poptW: Optimized parameters for the weighted fit\n",
    "# pcovW: matrix of covariance for the weighted fit\n",
    "#   xi, yi: rename these to whatever variable names you have used\n",
    "#   for your x and y data respectively.  \n",
    "poptW,pcovW = curve_fit(straight_line,x,y, sigma=dy, absolute_sigma=True)\n",
    "print (\"poptW :\\n\", poptW)\n",
    "print (\"pcovW :\\n\", pcovW)"
   ]
  },
  {
   "cell_type": "markdown",
   "metadata": {
    "collapsed": true
   },
   "source": [
    "## Bibliography\n",
    "\n",
    "* Dash, L and Lemos, P (2019). _\"PHAS0007 Reading Week Task 2019: Using least-squares fitting to calculate the Hubble constant\"_. UCL Moodle resource available from https://moodle.ucl.ac.uk/course/view.php?id=10648&section=13 \\[accessed 1 November 2019\\]\n",
    "\n",
    "* Hughes, I. and Hase, T. (2010). _\"Measurements and their uncertainties. A practical guide to modern error analysis\"_. Oxford University Press. http://UCL.eblib.com/patron/FullRecord.aspx?p=584562.\n"
   ]
  }
 ],
 "metadata": {
  "anaconda-cloud": {},
  "kernelspec": {
   "display_name": "Python 3",
   "language": "python",
   "name": "python3"
  },
  "language_info": {
   "codemirror_mode": {
    "name": "ipython",
    "version": 3
   },
   "file_extension": ".py",
   "mimetype": "text/x-python",
   "name": "python",
   "nbconvert_exporter": "python",
   "pygments_lexer": "ipython3",
   "version": "3.8.3"
  }
 },
 "nbformat": 4,
 "nbformat_minor": 1
}
