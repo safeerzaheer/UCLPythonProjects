{
  "cells": [
    {
      "cell_type": "markdown",
      "metadata": {
        "id": "OVz6YR07MY1V"
      },
      "source": [
        "# Practical Machine Learning for Physicists\n",
        "## Week 4 Exercise - Part 1\n"
      ]
    },
    {
      "cell_type": "markdown",
      "metadata": {
        "id": "uqw6IpHeMY1W"
      },
      "source": [
        "### Task 1:\n",
        "Design, implement and test a neural network utilising a single convolutional layer (use as many other non convolutional layers as you need) to classify the MNIST handwritten digits. What is the maximum test accuracry you can achieve using a single convolutional layer?\n",
        "\n",
        "### Task 2:\n",
        "Design, implement and test a neural network utitlising multiple convolutional layers (again use as many other non convolutinal laters as you need) to classify the MNIST handwritten digits. What is the maximum test accuracry you can achieve using as many convolutional layers as you like?\n",
        "\n",
        "#### Practicalities\n",
        "You should use this notebook for your work and upload it to both Moodle and CoCalc. You are expected to use TensorFlow and Keras to complete these takss. The notebook should be self-contained and able to be executed if necessary. Marks will be awarded for (roughly equally weighted):\n",
        "- Overall notebook clarity (both in terms of good coding practice and coherent discussion)\n",
        "- Network performance (how well does your classifier do?)\n",
        "- Network efficiency (how does your network compare to the optimum networks for this task?)\n",
        "- Network training (do you do a good job of traning your network?)\n"
      ]
    },
    {
      "cell_type": "markdown",
      "source": [
        "_________________________________________"
      ],
      "metadata": {
        "id": "_fyONoK-fXmL"
      }
    },
    {
      "cell_type": "markdown",
      "source": [
        "Import what's needed and set-up figure display conditions."
      ],
      "metadata": {
        "id": "5XjOZheCfNyD"
      }
    },
    {
      "cell_type": "code",
      "execution_count": 23,
      "metadata": {
        "colab": {
          "base_uri": "https://localhost:8080/"
        },
        "id": "YlHBZCeLMY1X",
        "outputId": "9b6a8ac6-4818-47e0-a9e5-f9fea0dcfac1"
      },
      "outputs": [
        {
          "output_type": "stream",
          "name": "stdout",
          "text": [
            "2.9.2\n"
          ]
        }
      ],
      "source": [
        "import matplotlib.pyplot as plt\n",
        "import numpy as np\n",
        "import math\n",
        "\n",
        "# TensorFlow and tf.keras\n",
        "import tensorflow as tf\n",
        "from tensorflow import keras\n",
        "\n",
        "import matplotlib.style #Some style nonsense\n",
        "import matplotlib as mpl #Some more style nonsense\n",
        "\n",
        "\n",
        "#Set default figure size\n",
        "#mpl.rcParams['figure.figsize'] = [12.0, 8.0] #Inches... of course it is inches\n",
        "mpl.rcParams[\"legend.frameon\"] = False\n",
        "mpl.rcParams['figure.dpi']=200 # dots per inch\n",
        "\n",
        "#Useful for debugging problems\n",
        "print(tf.__version__)"
      ]
    },
    {
      "cell_type": "markdown",
      "source": [
        "Load and store the MNIST dataset, also rescaling it to mormalize the values."
      ],
      "metadata": {
        "id": "zoQsj5n-fbjz"
      }
    },
    {
      "cell_type": "code",
      "source": [
        "mnist = keras.datasets.mnist   #The original handwritten digit MNIST\n",
        "#f_mnist = keras.datasets.fashion_mnist   #A tricky version that uses images of fashion items\n",
        "(train_images, train_labels), (test_images, test_labels) = mnist.load_data()\n",
        "\n",
        "# Rescaling both image sets so that values are relative to 1\n",
        "train_images=train_images/255.0\n",
        "test_images=test_images/255.0"
      ],
      "metadata": {
        "id": "vkjFu5O7M0Im"
      },
      "execution_count": 24,
      "outputs": []
    },
    {
      "cell_type": "code",
      "source": [
        "plt.imshow(train_images[570])  # Displays an image from the dataset.\n",
        "plt.colorbar()                 #Generates a colorbar for the image, telling us what values the colours represent."
      ],
      "metadata": {
        "colab": {
          "base_uri": "https://localhost:8080/",
          "height": 736
        },
        "id": "u0Aot2qmXRLj",
        "outputId": "16242923-cf50-4a60-c677-5eb113cace98"
      },
      "execution_count": 25,
      "outputs": [
        {
          "output_type": "execute_result",
          "data": {
            "text/plain": [
              "<matplotlib.colorbar.Colorbar at 0x7f584654abb0>"
            ]
          },
          "metadata": {},
          "execution_count": 25
        },
        {
          "output_type": "display_data",
          "data": {
            "text/plain": [
              "<Figure size 1200x800 with 2 Axes>"
            ],
            "image/png": "[encoded data removed]"
          },
          "metadata": {
            "needs_background": "light"
          }
        }
      ]
    },
    {
      "cell_type": "markdown",
      "source": [
        "# Task 1: A Single Convolutional Layer\n",
        "Let's now try to setup a model with hidden layers, including a single convolutional layer."
      ],
      "metadata": {
        "id": "9gqr3Na8iIAB"
      }
    },
    {
      "cell_type": "code",
      "source": [
        "model = keras.models.Sequential()                                                      #load a keras-model in 'model'\n",
        "model.add(keras.layers.Conv2D(5, (3,3), activation='relu', input_shape=(28, 28, 1)))   #Add a convolution layer which takes an input of a single colour 28x28 image. Twenty eight of 3x3 kernels are applied to the image.\n",
        "model.add(keras.layers.MaxPooling2D((2, 2)))                                           #Add a pooling layer (2x2 dimensions) that downsamples from 28x28 to 14x14. Maxpooling selects the brighter spots in the image.\n",
        "\n",
        "model.summary()                                                                        #Generate a summary of the parameters and output shapes of the layers in the model."
      ],
      "metadata": {
        "colab": {
          "base_uri": "https://localhost:8080/"
        },
        "id": "TV1GqUDpN8dX",
        "outputId": "fb951380-9551-4939-b6da-44b4f5c6854f"
      },
      "execution_count": 26,
      "outputs": [
        {
          "output_type": "stream",
          "name": "stdout",
          "text": [
            "Model: \"sequential_5\"\n",
            "_________________________________________________________________\n",
            " Layer (type)                Output Shape              Param #   \n",
            "=================================================================\n",
            " conv2d_9 (Conv2D)           (None, 26, 26, 5)         50        \n",
            "                                                                 \n",
            " max_pooling2d_5 (MaxPooling  (None, 13, 13, 5)        0         \n",
            " 2D)                                                             \n",
            "                                                                 \n",
            "=================================================================\n",
            "Total params: 50\n",
            "Trainable params: 50\n",
            "Non-trainable params: 0\n",
            "_________________________________________________________________\n"
          ]
        }
      ]
    },
    {
      "cell_type": "markdown",
      "source": [
        "...adding some hidden fully-connected layers."
      ],
      "metadata": {
        "id": "FDfNDbQnrosz"
      }
    },
    {
      "cell_type": "code",
      "source": [
        "model.add(keras.layers.Flatten(input_shape=(28,28)))                                     #Adding a flattening layer that converts the 28x28 image into a string of 784x1.\n",
        "model.add(keras.layers.Dense(128, activation='relu'))                                    #Adding a fully connected hidden layer with 128 neurons and relu activation.\n",
        "model.add(keras.layers.Dense(10))                                                        #Adding an output layer that seperates the dataset into 10 classes of objects (corresponding to the 10 digits).\n",
        "\n",
        "model.summary()                                                                          #Generate a summary of the parameters and output shapes of the layers in the model."
      ],
      "metadata": {
        "colab": {
          "base_uri": "https://localhost:8080/"
        },
        "id": "xcD2PEddWML1",
        "outputId": "88df6500-9abe-465d-9970-f29b0f6c6e5e"
      },
      "execution_count": 27,
      "outputs": [
        {
          "output_type": "stream",
          "name": "stdout",
          "text": [
            "Model: \"sequential_5\"\n",
            "_________________________________________________________________\n",
            " Layer (type)                Output Shape              Param #   \n",
            "=================================================================\n",
            " conv2d_9 (Conv2D)           (None, 26, 26, 5)         50        \n",
            "                                                                 \n",
            " max_pooling2d_5 (MaxPooling  (None, 13, 13, 5)        0         \n",
            " 2D)                                                             \n",
            "                                                                 \n",
            " flatten_5 (Flatten)         (None, 845)               0         \n",
            "                                                                 \n",
            " dense_10 (Dense)            (None, 128)               108288    \n",
            "                                                                 \n",
            " dense_11 (Dense)            (None, 10)                1290      \n",
            "                                                                 \n",
            "=================================================================\n",
            "Total params: 109,628\n",
            "Trainable params: 109,628\n",
            "Non-trainable params: 0\n",
            "_________________________________________________________________\n"
          ]
        }
      ]
    },
    {
      "cell_type": "code",
      "source": [
        "model.compile(optimizer='adam',                                                         # Compile the model with 'adam' optimizer'\n",
        "              loss=tf.keras.losses.SparseCategoricalCrossentropy(from_logits=True),     # Added in code to output the loss and accuracy values when asked for it.\n",
        "              metrics=['accuracy'])\n",
        "\n",
        "history = model.fit(train_images, train_labels, epochs=5,                              # Teach the model via the training images and labels provided, repeating this for 5 epochs (rounds of teaching and testing).\n",
        "                    validation_data=(test_images, test_labels))"
      ],
      "metadata": {
        "colab": {
          "base_uri": "https://localhost:8080/"
        },
        "id": "0UKlQG4CWhtw",
        "outputId": "1a2a234e-0718-4720-99a4-304d7fe246b7"
      },
      "execution_count": 28,
      "outputs": [
        {
          "output_type": "stream",
          "name": "stdout",
          "text": [
            "Epoch 1/5\n",
            "1875/1875 [==============================] - 30s 16ms/step - loss: 0.2253 - accuracy: 0.9341 - val_loss: 0.0834 - val_accuracy: 0.9750\n",
            "Epoch 2/5\n",
            "1875/1875 [==============================] - 31s 17ms/step - loss: 0.0764 - accuracy: 0.9770 - val_loss: 0.0649 - val_accuracy: 0.9796\n",
            "Epoch 3/5\n",
            "1875/1875 [==============================] - 27s 15ms/step - loss: 0.0498 - accuracy: 0.9846 - val_loss: 0.0556 - val_accuracy: 0.9831\n",
            "Epoch 4/5\n",
            "1875/1875 [==============================] - 27s 14ms/step - loss: 0.0360 - accuracy: 0.9888 - val_loss: 0.0450 - val_accuracy: 0.9851\n",
            "Epoch 5/5\n",
            "1875/1875 [==============================] - 26s 14ms/step - loss: 0.0261 - accuracy: 0.9918 - val_loss: 0.0480 - val_accuracy: 0.9843\n"
          ]
        }
      ]
    },
    {
      "cell_type": "markdown",
      "source": [
        "**I used 5 epochs as it netted a pretty good accuracy level while also not making the code long to run.**"
      ],
      "metadata": {
        "id": "ADmC_Yu-3IYv"
      }
    },
    {
      "cell_type": "code",
      "source": [
        "print(np.shape(test_images))                                                            # Print the shape of the 'test_images' data set. Out outs as (number of images, x-pixels, y-pixels)\n",
        "test_loss, test_acc = model.evaluate(test_images,  test_labels, verbose=2)              # Store and print the final accuracy and loss values for test.\n",
        "\n",
        "print('\\nTest accuracy:', test_acc)"
      ],
      "metadata": {
        "colab": {
          "base_uri": "https://localhost:8080/"
        },
        "id": "2yzHQQe8WzAR",
        "outputId": "ffd23b61-e0ad-45d1-d0b0-efc9890b2f69"
      },
      "execution_count": 29,
      "outputs": [
        {
          "output_type": "stream",
          "name": "stdout",
          "text": [
            "(10000, 28, 28)\n",
            "313/313 - 2s - loss: 0.0480 - accuracy: 0.9843 - 2s/epoch - 6ms/step\n",
            "\n",
            "Test accuracy: 0.9843000173568726\n"
          ]
        }
      ]
    },
    {
      "cell_type": "markdown",
      "source": [
        "**In this task, I maximized the accuracy by varying the number of neurons in the hidden layer, the number of kernels applied to the image in the convolution layer and the size of the kernels in the convolution layer. Although I originally used 28 kernels in the conv layer, I later reduced it to 5 after seeing minimal differences in accuracy while seeing a marked improvement in time taken to run the code. In the interest of maintaining a reasonably complex NN, I kept the kernel size to 3x3 instead of increasing it.**"
      ],
      "metadata": {
        "id": "2KaHnBPt3boO"
      }
    },
    {
      "cell_type": "markdown",
      "source": [
        "_______________________________________________________"
      ],
      "metadata": {
        "id": "v5Jmd5CK42tH"
      }
    },
    {
      "cell_type": "markdown",
      "source": [
        "# Task 2: Multiple Convolutional Layers\n",
        "\n",
        "Let's now try to setup a model with multiple convolutional layers."
      ],
      "metadata": {
        "id": "lcpsEHlU421G"
      }
    },
    {
      "cell_type": "markdown",
      "source": [
        "The activation will be kept as 'relu', as it seems to generate sharper guesses as comapred to the 'smoother' guesses of sigmoid, which can be seen by the graphs they symbolize."
      ],
      "metadata": {
        "id": "I8_8-_Bf5x3Y"
      }
    },
    {
      "cell_type": "code",
      "execution_count": 30,
      "metadata": {
        "id": "u21BuEb4yS20",
        "colab": {
          "base_uri": "https://localhost:8080/"
        },
        "outputId": "b8bd9bab-e236-475b-9d81-dc52b6caf56c"
      },
      "outputs": [
        {
          "output_type": "stream",
          "name": "stdout",
          "text": [
            "Model: \"sequential_6\"\n",
            "_________________________________________________________________\n",
            " Layer (type)                Output Shape              Param #   \n",
            "=================================================================\n",
            " conv2d_10 (Conv2D)          (None, 26, 26, 5)         50        \n",
            "                                                                 \n",
            " max_pooling2d_6 (MaxPooling  (None, 13, 13, 5)        0         \n",
            " 2D)                                                             \n",
            "                                                                 \n",
            " conv2d_11 (Conv2D)          (None, 11, 11, 10)        460       \n",
            "                                                                 \n",
            " max_pooling2d_7 (MaxPooling  (None, 5, 5, 10)         0         \n",
            " 2D)                                                             \n",
            "                                                                 \n",
            " conv2d_12 (Conv2D)          (None, 3, 3, 10)          910       \n",
            "                                                                 \n",
            " flatten_6 (Flatten)         (None, 90)                0         \n",
            "                                                                 \n",
            " dense_12 (Dense)            (None, 128)               11648     \n",
            "                                                                 \n",
            " dense_13 (Dense)            (None, 10)                1290      \n",
            "                                                                 \n",
            "=================================================================\n",
            "Total params: 14,358\n",
            "Trainable params: 14,358\n",
            "Non-trainable params: 0\n",
            "_________________________________________________________________\n"
          ]
        }
      ],
      "source": [
        "model = keras.models.Sequential()                                                                  #load a keras-model in 'model'\n",
        "model.add(keras.layers.Conv2D(5, (3, 3), activation='relu', input_shape=(28, 28, 1)))              #Add a convolution layer which takes an input of a single colour 28x28 image. 5 of 3x3 kernels are applied to the image.\n",
        "model.add(keras.layers.MaxPooling2D((2, 2)))                                                       #Add a pooling layer (2x2 dimensions) that downsamples from 28x28 to 14x14.\n",
        "model.add(keras.layers.Conv2D(10, (3, 3), activation='relu'))                                      #Add a convolution layer. 10 of 3x3 kernels are applied to the image.\n",
        "model.add(keras.layers.MaxPooling2D((2, 2)))                                                       #Add a pooling layer (2x2 dimensions) that downsamples from 28x28 to 14x14.\n",
        "model.add(keras.layers.Conv2D(10, (3, 3), activation='relu'))                                      #Add a convolution layer. 10 of 3x3 kernels are applied to the image.\n",
        "\n",
        "model.add(keras.layers.Flatten(input_shape=(28,28)))                                               #Adding a flattening layer that converts the 28x28 image into a string of 784x1.\n",
        "model.add(keras.layers.Dense(128, activation='relu'))                                              #Adding a fully connected hidden layer with 128 neurons and relu activation.\n",
        "model.add(keras.layers.Dense(10))                                                                  #Adding an output layer that seperates the dataset into 10 classes of objects (corresponding to the 10 digits).\n",
        "\n",
        "model.summary()                                                                                    #Generate a summary of the parameters and output shapes of the layers in the model."
      ]
    },
    {
      "cell_type": "code",
      "source": [
        "model.compile(optimizer='adam',                                                                    # Compile the model with 'adam' optimizer'\n",
        "              loss=tf.keras.losses.SparseCategoricalCrossentropy(from_logits=True),                # Added in code to output the loss and accuracy values when asked for it.\n",
        "              metrics=['accuracy'])\n",
        "\n",
        "history = model.fit(train_images, train_labels, epochs=5,                                         # Teach the model via the training images and labels provided, repeating this for 5 epochs (rounds of teaching and testing).\n",
        "                    validation_data=(test_images, test_labels))"
      ],
      "metadata": {
        "colab": {
          "base_uri": "https://localhost:8080/"
        },
        "id": "tZ9mAvvJhivv",
        "outputId": "ba9a7989-592f-4f7d-ee6b-0b4840c73b3b"
      },
      "execution_count": 31,
      "outputs": [
        {
          "output_type": "stream",
          "name": "stdout",
          "text": [
            "Epoch 1/5\n",
            "1875/1875 [==============================] - 34s 18ms/step - loss: 0.2657 - accuracy: 0.9190 - val_loss: 0.0973 - val_accuracy: 0.9695\n",
            "Epoch 2/5\n",
            "1875/1875 [==============================] - 32s 17ms/step - loss: 0.1009 - accuracy: 0.9688 - val_loss: 0.0716 - val_accuracy: 0.9761\n",
            "Epoch 3/5\n",
            "1875/1875 [==============================] - 33s 17ms/step - loss: 0.0773 - accuracy: 0.9755 - val_loss: 0.0683 - val_accuracy: 0.9761\n",
            "Epoch 4/5\n",
            "1875/1875 [==============================] - 31s 17ms/step - loss: 0.0633 - accuracy: 0.9800 - val_loss: 0.0543 - val_accuracy: 0.9828\n",
            "Epoch 5/5\n",
            "1875/1875 [==============================] - 34s 18ms/step - loss: 0.0546 - accuracy: 0.9825 - val_loss: 0.0505 - val_accuracy: 0.9833\n"
          ]
        }
      ]
    },
    {
      "cell_type": "code",
      "source": [
        "print(np.shape(test_images))                                                               # Print the shape of the 'test_images' data set. Out outs as (number of images, x-pixels, y-pixels)\n",
        "test_loss, test_acc = model.evaluate(test_images,  test_labels, verbose=2)                 # Store and print the final accuracy and loss values for test.\n",
        "\n",
        "print('\\nTest accuracy:', test_acc)"
      ],
      "metadata": {
        "colab": {
          "base_uri": "https://localhost:8080/"
        },
        "id": "ohiBTmlEhttj",
        "outputId": "adc32218-cc89-4bb7-aa4b-dcd245177755"
      },
      "execution_count": 32,
      "outputs": [
        {
          "output_type": "stream",
          "name": "stdout",
          "text": [
            "(10000, 28, 28)\n",
            "313/313 - 2s - loss: 0.0505 - accuracy: 0.9833 - 2s/epoch - 6ms/step\n",
            "\n",
            "Test accuracy: 0.983299970626831\n"
          ]
        }
      ]
    },
    {
      "cell_type": "markdown",
      "source": [
        "Considering that there is similar accuracy in the two scenerios, it can be said that increasing convolutions doesn't necessarily increase the accuracy, in fact, the accuracy seems to decrease in our case. **Let's test this out with more convolution layers added.**"
      ],
      "metadata": {
        "id": "b4znEkrPUKZZ"
      }
    },
    {
      "cell_type": "code",
      "source": [
        "model = keras.models.Sequential()                                                                  #load a keras-model in 'model'\n",
        "model.add(keras.layers.Conv2D(5, (3, 3), activation='relu', input_shape=(28, 28, 1)))              #Add a convolution layer which takes an input of a single colour 28x28 image. 5 of 3x3 kernels are applied to the image.\n",
        "\n",
        "#Add 5 convolution layers. 10 of 3x3 kernels are applied to the image in each layer.\n",
        "model.add(keras.layers.Conv2D(10, (3, 3), activation='relu'))                                      \n",
        "model.add(keras.layers.Conv2D(10, (3, 3), activation='relu'))                                      \n",
        "model.add(keras.layers.Conv2D(10, (3, 3), activation='relu'))                                      \n",
        "model.add(keras.layers.Conv2D(10, (3, 3), activation='relu'))                                      \n",
        "model.add(keras.layers.Conv2D(10, (3, 3), activation='relu'))                                      \n",
        "model.add(keras.layers.MaxPooling2D((2, 2)))                                                       #Add a pooling layer (2x2 dimensions) that downsamples from 28x28 to 14x14.\n",
        "\n",
        "\n",
        "model.add(keras.layers.Flatten(input_shape=(28,28)))                                               #Adding a flattening layer that converts the 28x28 image into a string of 784x1.\n",
        "model.add(keras.layers.Dense(128, activation='relu'))                                              #Adding a fully connected hidden layer with 128 neurons and relu activation.\n",
        "model.add(keras.layers.Dense(10))                                                                  #Adding an output layer that seperates the dataset into 10 classes of objects (corresponding to the 10 digits).\n",
        "\n",
        "model.summary()                                                                                    #Generate a summary of the parameters and output shapes of the layers in the model."
      ],
      "metadata": {
        "colab": {
          "base_uri": "https://localhost:8080/"
        },
        "id": "AqNBMDAfUi4w",
        "outputId": "85d61a8d-290a-4e5e-8e08-b08a02f8f0dc"
      },
      "execution_count": 35,
      "outputs": [
        {
          "output_type": "stream",
          "name": "stdout",
          "text": [
            "Model: \"sequential_9\"\n",
            "_________________________________________________________________\n",
            " Layer (type)                Output Shape              Param #   \n",
            "=================================================================\n",
            " conv2d_21 (Conv2D)          (None, 26, 26, 5)         50        \n",
            "                                                                 \n",
            " conv2d_22 (Conv2D)          (None, 24, 24, 10)        460       \n",
            "                                                                 \n",
            " conv2d_23 (Conv2D)          (None, 22, 22, 10)        910       \n",
            "                                                                 \n",
            " conv2d_24 (Conv2D)          (None, 20, 20, 10)        910       \n",
            "                                                                 \n",
            " conv2d_25 (Conv2D)          (None, 18, 18, 10)        910       \n",
            "                                                                 \n",
            " conv2d_26 (Conv2D)          (None, 16, 16, 10)        910       \n",
            "                                                                 \n",
            " max_pooling2d_14 (MaxPoolin  (None, 8, 8, 10)         0         \n",
            " g2D)                                                            \n",
            "                                                                 \n",
            " flatten_7 (Flatten)         (None, 640)               0         \n",
            "                                                                 \n",
            " dense_14 (Dense)            (None, 128)               82048     \n",
            "                                                                 \n",
            " dense_15 (Dense)            (None, 10)                1290      \n",
            "                                                                 \n",
            "=================================================================\n",
            "Total params: 87,488\n",
            "Trainable params: 87,488\n",
            "Non-trainable params: 0\n",
            "_________________________________________________________________\n"
          ]
        }
      ]
    },
    {
      "cell_type": "code",
      "source": [
        "model.compile(optimizer='adam',                                                                    # Compile the model with 'adam' optimizer'\n",
        "              loss=tf.keras.losses.SparseCategoricalCrossentropy(from_logits=True),                # Added in code to output the loss and accuracy values when asked for it.\n",
        "              metrics=['accuracy'])\n",
        "\n",
        "history = model.fit(train_images, train_labels, epochs=5,                                         # Teach the model via the training images and labels provided, repeating this for 5 epochs (rounds of teaching and testing).\n",
        "                    validation_data=(test_images, test_labels))"
      ],
      "metadata": {
        "colab": {
          "base_uri": "https://localhost:8080/"
        },
        "id": "IlYWqm-ubx_-",
        "outputId": "1482d884-adfe-479d-beeb-c59e8488fb8b"
      },
      "execution_count": 36,
      "outputs": [
        {
          "output_type": "stream",
          "name": "stdout",
          "text": [
            "Epoch 1/5\n",
            "1875/1875 [==============================] - 129s 68ms/step - loss: 0.1599 - accuracy: 0.9507 - val_loss: 0.0577 - val_accuracy: 0.9803\n",
            "Epoch 2/5\n",
            "1875/1875 [==============================] - 121s 65ms/step - loss: 0.0554 - accuracy: 0.9836 - val_loss: 0.0476 - val_accuracy: 0.9835\n",
            "Epoch 3/5\n",
            "1875/1875 [==============================] - 121s 65ms/step - loss: 0.0407 - accuracy: 0.9868 - val_loss: 0.0392 - val_accuracy: 0.9876\n",
            "Epoch 4/5\n",
            "1875/1875 [==============================] - 134s 71ms/step - loss: 0.0306 - accuracy: 0.9901 - val_loss: 0.0398 - val_accuracy: 0.9874\n",
            "Epoch 5/5\n",
            "1875/1875 [==============================] - 130s 69ms/step - loss: 0.0237 - accuracy: 0.9931 - val_loss: 0.0554 - val_accuracy: 0.9816\n"
          ]
        }
      ]
    },
    {
      "cell_type": "code",
      "source": [
        "print(np.shape(test_images))                                                               # Print the shape of the 'test_images' data set. Out outs as (number of images, x-pixels, y-pixels)\n",
        "test_loss, test_acc = model.evaluate(test_images,  test_labels, verbose=2)                 # Store and print the final accuracy and loss values for test.\n",
        "\n",
        "print('\\nTest accuracy:', test_acc)"
      ],
      "metadata": {
        "colab": {
          "base_uri": "https://localhost:8080/"
        },
        "id": "QVae6uRncKjj",
        "outputId": "88621952-dcc7-4717-a53d-e6a19899752e"
      },
      "execution_count": 37,
      "outputs": [
        {
          "output_type": "stream",
          "name": "stdout",
          "text": [
            "(10000, 28, 28)\n",
            "313/313 - 6s - loss: 0.0554 - accuracy: 0.9816 - 6s/epoch - 19ms/step\n",
            "\n",
            "Test accuracy: 0.9815999865531921\n"
          ]
        }
      ]
    },
    {
      "cell_type": "markdown",
      "source": [
        "**As you can see, adding many more convoluting layers while keeping the other layers the same results in a slight decrease in accuracy, which might be due to convolution leading to loss in data. This indicates that using more convolutions does not increase accuracy necessarily. Also, the processing times for the code also increased substantially due to the increased layers.**"
      ],
      "metadata": {
        "id": "dn6MfrSjfUJs"
      }
    },
    {
      "cell_type": "code",
      "source": [],
      "metadata": {
        "id": "2Bs6PvNCf2FT"
      },
      "execution_count": null,
      "outputs": []
    }
  ],
  "metadata": {
    "kernelspec": {
      "display_name": "Python 3",
      "language": "python",
      "name": "python3"
    },
    "language_info": {
      "codemirror_mode": {
        "name": "ipython",
        "version": 3
      },
      "file_extension": ".py",
      "mimetype": "text/x-python",
      "name": "python",
      "nbconvert_exporter": "python",
      "pygments_lexer": "ipython3",
      "version": "3.7.6"
    },
    "colab": {
      "provenance": []
    }
  },
  "nbformat": 4,
  "nbformat_minor": 0
}