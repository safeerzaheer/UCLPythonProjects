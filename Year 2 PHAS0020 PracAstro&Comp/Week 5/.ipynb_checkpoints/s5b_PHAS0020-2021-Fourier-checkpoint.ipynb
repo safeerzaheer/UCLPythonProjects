{
 "cells": [
  {
   "cell_type": "markdown",
   "metadata": {},
   "source": [
    "# PHAS0020 Session 5b: Fourier Transforms and Convolutions\n",
    "\n",
    "_Author: g.savini@uc.ac.uk 02/02/2020_"
   ]
  },
  {
   "cell_type": "markdown",
   "metadata": {},
   "source": [
    "<div class=\"alert alert-success\">\n",
    "    \n",
    "**In this first second script there is a lot to read (and a few tasks to do).**\n",
    "\n",
    "**Read through all of the Markdown explanations and some of the cells which have been done for you and where you\n",
    "encounter a green cell, there will be short tasks to do in between**\n",
    "\n",
    "In this script we aim to:\n",
    "<ul>\n",
    "    <li> Review the definition and mathematical expressions for the Fourier Transform</li>\n",
    "    <li> See how the analytical expression compares to the \"Discrete\" Fourier transform</li>\n",
    "    <li> Learn how to perform such a transform practically</li>\n",
    "    <li> Use the \"Fast\" Fourier transform (FFT) to do the same</li>\n",
    "    <li> Transform the result back to the time domain by <em> Inverse FT </em></li>\n",
    "    <li> Use this by making a practical application of the Convolution Theorem</li>\n",
    "    <li> Learn about Fourier pairs and how this is used in astronomy to identify instrument beams</li>\n",
    "</ul>\n",
    "\n",
    "<br>\n",
    "Where you find a Task part of the script, don't forget to <b>write a Markdown cell at the start and one at\n",
    "the end for comments and conclusions.</b>\n",
    "<br>\n",
    "\n",
    "\n",
    "</div>"
   ]
  },
  {
   "cell_type": "markdown",
   "metadata": {},
   "source": [
    "In PHAS0025 (Maths III) you learned about the Fourier Series and the Fourier Transform. In this session we're going to look at methods of using these techniques numerically - and in particular for the Discrete Fourier Transform (often known as the DFT) and the Fast Fourier Transform (FFT), which is a particularly efficient algorithm to implement the DFT.\n",
    "\n",
    "You'll remember the form of the Fourier transform as given in PHAS0025:\n",
    "\n",
    "$$ g(\\omega) = \\frac{1}{\\sqrt{2 \\pi}} \\int_{-\\infty}^{+\\infty} f(t) e^{-i\\omega t} dt $$\n",
    "\n",
    "and also that its main purpose is to investigate the frequency content of the time domain function through a transformation.\n",
    "The inverse transform is also true:\n",
    "$$ f(t) = \\frac{1}{\\sqrt{2 \\pi}} \\int_{-\\infty}^{+\\infty} g(\\omega) e^{i\\omega t} dt $$\n",
    "\n",
    "(in fact you can find other definitions due to a degree of arbitrariness in defining the dual space units, in some cases you can find the two definitions with no constant in front of the first and $1/2\\pi$ in front of the second, you'll see later that inpython this can be controlled by the keyword \"norm\")\n",
    "\n",
    "We can already use numerical techniques here, for example by performing the integration numerically using the trapezoidal rule. But what happens if we don't have full knowledge of $f(t)$ - for example if the data we want to transform is discrete, digital, or sampled only at certain values of $t$? This is where the discrete Fourier transform steps in."
   ]
  },
  {
   "cell_type": "markdown",
   "metadata": {},
   "source": [
    "## The discrete Fourier transform (DFT)"
   ]
  },
  {
   "cell_type": "markdown",
   "metadata": {},
   "source": [
    "We won't cover a full derivation of the DFT here (it is covered in most computational physics textbooks, for example Newman *Computational Physics* Chapter 7, or \"Numerical Recipes\" by  W.H.Press, S.A. Teukolsky, W.T. Vetterling and B.P. Flannery), but the following gives an outline derivation. \n",
    "\n",
    "We'll also use a more general notation $f(x)$ rather than $f(t)$.*\n",
    "\n",
    "So for now we consider $f(x)$ generically as the results apply broadly."
   ]
  },
  {
   "cell_type": "markdown",
   "metadata": {},
   "source": [
    "We already know that we can represent a periodic function in terms of a Fourier series. In general however, we're dealing with functions $f(x)$ that are *non-periodic*. This isn't as problematic as it might seem, as we can take a portion of our non-periodic function over an interval from $0$ to $L$ and repeat it infinitely in both directions to form a periodic function of period $L$. Clearly, the results will be incorrect outside this region, but if the only portion we're interested in is that from $0$ to $L$, all is OK.\n",
    "\n",
    "In this case, we can represent our function $f(x)$ as a complex Fourier series\n",
    "\n",
    "$$\n",
    "f(x) = \\sum_{k = -\\infty}^{\\infty} \\gamma_k \\exp \\left(2 \\pi i \\frac{k x}{L}\\right),\n",
    "$$\n",
    "with the coefficients $\\gamma_k$ given by\n",
    "$$ \n",
    "\\gamma_k = \\frac{1}{L} \\int_0^L f(x) \\exp \\left(-2 \\pi i \\frac{k x}{L}\\right) dx.\n",
    "$$\n",
    "\n",
    "\n",
    "\n",
    "We can evaluate the integral using the trapezoidal rule with $N$ slices (where $N$ is the number of samples we have for $f(x)$ in the interval $0 < x < L$), which gives us\n",
    "\n",
    "$$\n",
    "\\gamma_k = \n",
    "\\frac{1}{N} \\sum_{n=0}^{N-1} f(x_n) \\exp \\left( - 2\\pi i \\frac{k x_n}{L} \\right).\n",
    "$$\n",
    "\n",
    "\n",
    "Now if we have a set of sampled data $y_n = f(x_n)$ instead of the full $f(x)$, we can rewrite this as\n",
    "\n",
    "$$\n",
    "\\gamma_k = \\frac{1}{N} \\sum_{n=0}^{N-1} y_n \\exp \\left(- 2\\pi i \\frac{k n}{N} \\right),\n",
    "$$\n",
    "\n",
    "as the sampling points $x_n$ are specified by $x_n = n L / N$.\n",
    "\n",
    "By convention, the factor $1/N$ is dropped from the definition of the discrete Fourier transform (instead, it appears in the inverse discrete Fourier transform), giving the standard form of the **Discrete Fourier Transform**:\n",
    "\n",
    "$$\n",
    "c_k = \\sum_{n=0}^{N-1} y_n \\exp \\left(- 2\\pi i \\frac{k n}{N} \\right).\n",
    "$$\n",
    "\n",
    "(see, for example, the numpy documentation at http://docs.scipy.org/doc/numpy/reference/routines.fft.html#module-numpy.fft)\n",
    "\n",
    "But make sure don't forget this $(1/N)$ factor altogether as it is important for normalization purposes."
   ]
  },
  {
   "cell_type": "markdown",
   "metadata": {},
   "source": [
    "## The DFT in two dimensions"
   ]
  },
  {
   "cell_type": "markdown",
   "metadata": {},
   "source": [
    "The same principle holds in two (or more) dimensions. In this case the summation is performed first in one dimension, then in the other. For example, for a two-dimensional $M \\times N$ grid of sampled data $y_{mn}$, the DFT becomes\n",
    "\n",
    "$$\n",
    "c_{kl} = \\sum_{m=0}^{M-1} \\sum_{n=0}^{N-1} y_{mn} \\exp \\left( - 2 \\pi i \\left[ \\frac{km}{M} + \\frac{ln}{N} \\right] \\right)\n",
    "$$\n",
    "\n",
    "This two-dimensional transform is widely used for image processing, particularly in astronomy."
   ]
  },
  {
   "cell_type": "markdown",
   "metadata": {},
   "source": [
    "## Implementing the DFT"
   ]
  },
  {
   "cell_type": "markdown",
   "metadata": {},
   "source": [
    "Now we've done the theory bit, we can implement the one-dimensional DFT in python fairly simply. We'll start by importing the usual modules:"
   ]
  },
  {
   "cell_type": "code",
   "execution_count": null,
   "metadata": {},
   "outputs": [],
   "source": [
    "#%matplotlib notebook\n",
    "\n",
    "import numpy as np\n",
    "import matplotlib.pyplot as plt"
   ]
  },
  {
   "cell_type": "markdown",
   "metadata": {},
   "source": [
    "We'll implement the DFT using a function to find the $N$ coefficients we need to describe the function $f(x_n) = y_n$. Bear in mind that our coefficients $c_k$ are, in general, complex. We haven't covered complex numbers in Python much, but fortunately they're fairly easy to cope with. $\\sqrt{-1}$ is represented by an engineers' `j` rather than $i$, and in order to represent an imaginary number, you suffix it with a `j`, like this:"
   ]
  },
  {
   "cell_type": "code",
   "execution_count": null,
   "metadata": {},
   "outputs": [],
   "source": [
    "1j*1j # calculate i*i "
   ]
  },
  {
   "cell_type": "markdown",
   "metadata": {},
   "source": [
    "We can see how this works in the following function, which calculates the (complex) coefficients $c_k$ for the DFT:"
   ]
  },
  {
   "cell_type": "code",
   "execution_count": null,
   "metadata": {},
   "outputs": [],
   "source": [
    "def dft_1d(y):\n",
    "    '''Simple implementation of the discrete Fourier transform in 1D\n",
    "    Input: array of N sample values y\n",
    "    Output: array of N-1 Fourier coefficients'''\n",
    "    N = len(y)\n",
    "    c = np.zeros(N, complex)    # set up an array of complex numbers, filled with 0s\n",
    "    for k in range(N):          # loop over all N coefficients (runs from 0 to N-1)\n",
    "        for n in range(N):      # calculate this coefficient.\n",
    "            c[k] = c[k] + y[n]*np.exp(-2j*np.pi*k*n/N) # 2j: imaginary 2\n",
    "    return c                    # return an array of coefficients"
   ]
  },
  {
   "cell_type": "markdown",
   "metadata": {},
   "source": [
    "Let's test this, using a sample from a data file. Make sure you've downloaded the file \"pitch.txt\" from Moodle, then we'll load it and plot it to see what it looks like."
   ]
  },
  {
   "cell_type": "code",
   "execution_count": null,
   "metadata": {},
   "outputs": [],
   "source": [
    "y = np.loadtxt(\"s5b_pitch.txt\",float) # import floats from the data file\n",
    "\n",
    "print(\"The data file has \", len(y), \" sample points\")\n",
    "\n",
    "plt.figure()\n",
    "plt.xlabel('Time (ms)')\n",
    "plt.ylabel('Amplitude')\n",
    "plt.title(\"Data file 'pitch.txt'\")\n",
    "plt.xlim(0,1024)\n",
    "plt.plot(y);"
   ]
  },
  {
   "cell_type": "markdown",
   "metadata": {},
   "source": [
    "We can see that the data represents a function that looks fairly periodic, but quite noisy. Let's transform it, using our function. As the coefficients are complex, we'll plot their absolute value. We'll also only plot the lowest 512 coefficients (corresponding to the lowest frequencies). \n",
    "The reason to do this is that given 1024 points, half of the number of points represents the highest frequency we can distinguish without incurring into \"aliasing\".\n",
    "\n",
    "In short, \"aliasing\" is when a frequency higher than the Nyquist frequency is indistinguishable from the lowest which would produce the same sampling. (Think for example that a constant signal can identify a 'dc' signal (frequency=0) but can just as equally identify a signal that has the exact period equal to the sampling interval therefore presenting the same value each time)\n",
    "\n",
    "If we plot all 1024 points of the spectrum, this becomes apparent as the spectrum is symmetric. We then zoom to the low frequency part of the same plot."
   ]
  },
  {
   "cell_type": "code",
   "execution_count": null,
   "metadata": {},
   "outputs": [],
   "source": [
    "c = dft_1d(y) # calculate the Fourier coefficients\n",
    "\n",
    "print(\"We've calculated\", len(c), \"Fourier coefficients\")\n",
    "plt.figure(figsize=(14,6))\n",
    "plt.subplot(121)\n",
    "plt.xlim(0,1024)\n",
    "plt.plot(abs(c)) # plot the absolute coefficients\n",
    "plt.title(\"Fourier transform of 'pitch.txt'\")\n",
    "plt.xlabel('k')\n",
    "plt.ylabel('coefficient $c_k$');\n",
    "\n",
    "plt.arrow(512,500,0,-400,width=3)  # Arrow pointing at the Nyquist frequency\n",
    "\n",
    "plt.subplot(122)\n",
    "plt.xlim(0,100)\n",
    "plt.plot(abs(c)) # plot the absolute coefficients\n",
    "plt.title(\"Fourier transform of 'pitch.txt'\")\n",
    "plt.xlabel('k')\n",
    "plt.ylabel('coefficient $c_k$');\n"
   ]
  },
  {
   "cell_type": "markdown",
   "metadata": {},
   "source": [
    "We can see that the data does indeed consist of a base frequency, or fundamental, with $k\\sim 15$, with a few higher harmonics and plenty of noise from other frequencies. Note that the fundamental frequency is the _lowest_ Fourier component, not necessarily the largest Fourier component. The Fourier components are effectively a \"signature\" of the sound (for audio data), or the image (for two-dimensional image data) and contain a lot of information.\n",
    "\n",
    "Maybe you noticed this took a second or two to compute. Let's look at why. In our implementation of the DFT, we have a double loop over $N$, meaning we need to do $N^2$ calculations to do the transform. If $N$ is big, this is going to get very slow very quickly."
   ]
  },
  {
   "cell_type": "markdown",
   "metadata": {},
   "source": [
    "## The Fast Fourier Transform"
   ]
  },
  {
   "cell_type": "markdown",
   "metadata": {},
   "source": [
    "\n",
    "\n",
    "Fortunately, there's already a much more efficient algorithm for this, which is known as the **Fast Fourier Transform** or **FFT**. We're not going to go into the details of this here (if you want to know more, you can read http://dx.doi.org/10.1090/S0025-5718-1965-0178586-1), and even better, it's already implemented in Python, so we don't even need to implement the algorithm ourselves, but can just get on with using it.\n",
    "\n",
    "(Technical aside: The FFT routines are implemented both in numpy and in scipy. They are slightly different, but for most of the stuff we'll be using them for here it doesn't make any difference, so we'll just use the numpy versions for convenience. You can read more about the relationship between numpy and scipy (\"It's complicated\") here: http://stackoverflow.com/questions/6200910/relationship-between-scipy-and-numpy?rq=1)\n",
    "\n",
    "\n",
    "Let's use fft to recalculate the transform of the data we looked at earlier. We'll use the numpy [rfft](http://docs.scipy.org/doc/numpy/reference/generated/numpy.fft.fft.html#numpy.fft.rfft) routine, which is part of the fft module, to do the transform. The 'r' here is for real - as we are only dealing with real sample functions (there's a corresponding [fft](http://docs.scipy.org/doc/numpy/reference/generated/numpy.fft.fft.html#numpy.fft.fft) routine which can handle complex functions). Note, however, that the coefficients are complex regardless of whether $f(x)$ is real or complex."
   ]
  },
  {
   "cell_type": "code",
   "execution_count": null,
   "metadata": {},
   "outputs": [],
   "source": [
    "c_fft = np.fft.rfft(y) # transform the original data\n",
    "                       # note the form of the call -\n",
    "                       # we're using the numpy rfft routine in the numpy fft submodule\n",
    "\n",
    "plt.figure()\n",
    "plt.xlim(0,200)\n",
    "plt.plot(abs(c_fft))   # plot the absolute coefficients\n",
    "plt.title(\"Fourier transform of 'pitch.txt'\")\n",
    "plt.xlabel('k')\n",
    "plt.ylabel('coefficient $c_k$');"
   ]
  },
  {
   "cell_type": "markdown",
   "metadata": {},
   "source": [
    "What you should find is that this calculation is almost instantaneous - but it generates identical results."
   ]
  },
  {
   "cell_type": "markdown",
   "metadata": {},
   "source": [
    "**Note the operation you just performed which moves from the time domain to the frequency space can be performed backwards!**\n",
    "\n",
    "This is a general fourier transform property and can be performed using our function or FFT, let us use the faster FFT routine to do so this way"
   ]
  },
  {
   "cell_type": "code",
   "execution_count": null,
   "metadata": {},
   "outputs": [],
   "source": [
    "y2 = np.fft.irfft(c_fft)   # transform the fft previously calculated\n",
    "                           # note the form of the call -\n",
    "                           # we're using the numpy irfft (the extra \"i\" indicates \"inverse\")routine in the numpy fft submodule\n",
    "\n",
    "plt.figure()\n",
    "plt.xlim(0,1000)\n",
    "plt.plot(y2)   # plot the absolute coefficients\n",
    "plt.title(\"Inverse Fourier transform of Fourier transform of 'pitch.txt'\")\n",
    "plt.xlabel('t')\n",
    "plt.ylabel('Signal');"
   ]
  },
  {
   "cell_type": "markdown",
   "metadata": {},
   "source": [
    "We obtained our signal again as the two operations switch between the dual spaces and are reversible"
   ]
  },
  {
   "cell_type": "markdown",
   "metadata": {},
   "source": [
    "<hr>\n",
    "\n",
    "## Short Task 1 - Apply a filter in Frequency space"
   ]
  },
  {
   "cell_type": "markdown",
   "metadata": {},
   "source": [
    "<div class=\"alert alert-success\">\n",
    "    \n",
    "<b> Using what you learned in previous sessions. Create a few cells below this one where you:</b>\n",
    "\n",
    "<ol type='a'>\n",
    "    <li> Define a generic Low Pass filter function (Task 4)</li>\n",
    "    <li> Use this function to create a filter that cuts off all harmonics higher than the first (of the data transformed above). Do this by choosing the frequency where you want the cut-off to take place.</li>\n",
    "    <li> Apply the filter (multiply the Fourier transform of the data you have above by the filter)</li>\n",
    "    <li> Transform the result back to the time domain by <em> Inverse FT </em></li>\n",
    "</ol>\n",
    "\n",
    "</div>"
   ]
  },
  {
   "cell_type": "markdown",
   "metadata": {},
   "source": [
    "##### STUDENT MARKDOWN CELL ######"
   ]
  },
  {
   "cell_type": "code",
   "execution_count": null,
   "metadata": {},
   "outputs": [],
   "source": [
    "### STUDENT CELL ###\n"
   ]
  },
  {
   "cell_type": "markdown",
   "metadata": {},
   "source": [
    "##### STUDENT MARKDOWN CELL ######\n",
    "<hr>"
   ]
  },
  {
   "cell_type": "markdown",
   "metadata": {},
   "source": [
    "### 2D FFT"
   ]
  },
  {
   "cell_type": "markdown",
   "metadata": {},
   "source": [
    "Let us load a portion of a sky image now from the fits file on Moodle. We will do this for you below."
   ]
  },
  {
   "cell_type": "code",
   "execution_count": null,
   "metadata": {},
   "outputs": [],
   "source": [
    "from astropy.io import fits\n",
    "\n",
    "fits_image_filename = 's5b_image.fits'\n",
    "HDUlist = fits.open(fits_image_filename)\n",
    "large = HDUlist[0].data                     # As this fits file was created just to grab a small frame of an image, \n",
    "                                             # There is no header associated with it so the first and only element (0)\n",
    "                                             # is the image we need\n",
    "\n",
    "# For the simple purpose of visualizing the stars, let us set all points below the image median equal to 0      \n",
    "w = np.where(large < np.median(large))\n",
    "large[w] = np.median(large)\n",
    "large    = large  -  np.median(large)\n",
    "\n",
    "#...and then normalize the image to 1 at the highest peak\n",
    "large = large/np.max(large)\n",
    "\n",
    "plt.rcParams['figure.figsize'] = 14,14 \n",
    "plt.imshow(large,origin='lower',vmin=0.0,vmax=0.01)    # We then visualize the image by using our entire dynamic range\n",
    "                                                        # for the bottom 0.1% of values"
   ]
  },
  {
   "cell_type": "markdown",
   "metadata": {},
   "source": [
    "Make a mental note of all the features that can be seen in this image. If you wish, re-run the previous cell by changing <tt>vmin</tt> and <tt>vmax</tt> to see where the brighter sources are. The default on the script you downloaded is at 1% from the image median.\n",
    "\n",
    "Let us now apply the 2D FFT to the image above according to the description above."
   ]
  },
  {
   "cell_type": "code",
   "execution_count": null,
   "metadata": {},
   "outputs": [],
   "source": [
    "image_fft = np.fft.fft2(large,norm=None) # transform the 2d data\n",
    "                            # we're using the numpy rfft2 routine in the numpy fft submodule\n",
    "\n",
    "# Let's visualize the absolute value of the otherwise complex fft\n",
    "plt.imshow(abs(image_fft),origin='lower')\n"
   ]
  },
  {
   "cell_type": "markdown",
   "metadata": {},
   "source": [
    "Note how the information on the low frequencies (as in the 1D case) is centred close to the origin (0,0), but now the symmetry occurs in 2 dimensions. \n",
    "\n",
    "Let us re-arrange this array so that the (0,0) or origin of our 2D FT is placed at the centre of the array. This is done in a tedious way by swapping quadrants with a temporary array."
   ]
  },
  {
   "cell_type": "code",
   "execution_count": null,
   "metadata": {},
   "outputs": [],
   "source": [
    "shape = image_fft.shape\n",
    "sz = int(shape[0]/2)\n",
    "temp = np.zeros((2*sz,2*sz),dtype=complex)\n",
    "\n",
    "print('Re-centered the FFT')\n",
    "temp[sz:,sz:]=image_fft[:sz,:sz]\n",
    "temp[:sz,:sz]=image_fft[sz:,sz:]\n",
    "temp[:sz,sz:]=image_fft[sz:,:sz]\n",
    "temp[sz:,:sz]=image_fft[:sz,sz:]\n",
    "plt.rcParams['figure.figsize'] = 14,7 \n",
    "plt.figure()                              # You should see below the image (left) compared to the fit (right)\n",
    "#plt.subplot(121)\n",
    "plt.imshow(abs(temp),origin='lower')\n",
    "#plt.title('Range: 0-100')\n",
    "#plt.subplot(122)\n",
    "#plt.imshow(abs(temp),origin='lower',vmin=20.0,vmax=np.max(abs(temp)))\n",
    "#plt.title('Range: 100-200')\n"
   ]
  },
  {
   "cell_type": "markdown",
   "metadata": {},
   "source": [
    "## Short Task 2 - Apply a filter in Frequency space\n",
    "\n",
    "To avoid excessive complications, in the cell below you will find the a very familiar function that defines a symmetric gaussian. \n",
    "\n",
    "Following that there are a few lines that create a set of x and y variables of the same size of the image loaded.\n",
    "\n",
    "In the cell below that, a 2D gaussian is created and called \"LP_filter\" with a sigma of 15 (but you can change the value if you wish) and is placed at the centre of the image.\n",
    "\n",
    "<div class=\"alert alert-success\">\n",
    "    \n",
    "1. Apply it (multiply) to the image's FT and inverse transform that product as is done in the 1D case (but remember to rearrange the tiles before inverse transforming to observe the output image.\n",
    "\n",
    "2. As defined, the function will have a peak at 1 and will tend to zero at infinity and will serve as your Low pass filter. Now define an equivalent High Pass filter (i.e. 0 in the center and 1 at infinity) and repeat the operation.\n",
    "\n",
    "3. At the end of these 3 steps you should have the image and a Low-pass and High-pass filtered versions of it. Compare them by outputting them side-by-side in a 1x3 set of plots.\n",
    "\n",
    "</div>"
   ]
  },
  {
   "cell_type": "code",
   "execution_count": null,
   "metadata": {},
   "outputs": [],
   "source": [
    "from mpl_toolkits.mplot3d import Axes3D\n",
    "from matplotlib import cm\n",
    "\n",
    "def gauss_2D(x,y,x0,y0,sigma):\n",
    "    '''Returns a symmetric 2D gaussian with a given sigma value\n",
    "    - input x0,y0 - the center of the gaussian\n",
    "    - sigma : the symmetric sigma of the gaussian'''\n",
    "    g2d = np.exp(-((x-x0)**2+(y-y0)**2)/(2*sigma**2)) # gaussian normalized to 1 at its peak\n",
    "    return g2d\n",
    "\n",
    "#Creation of x and y variables with size (2sz x 2sz) so that the center of the image has coordinates (sz,sz)\n",
    "tmp  = np.linspace(0,2*sz,4*sz*sz)\n",
    "tmp2 = np.reshape(tmp,(2*sz,2*sz))\n",
    "yy = np.floor(tmp2)\n",
    "tmp3 = 2*sz*(tmp2-yy)\n",
    "xx = np.floor(tmp3)"
   ]
  },
  {
   "cell_type": "code",
   "execution_count": null,
   "metadata": {},
   "outputs": [],
   "source": [
    "LP_Filter = gauss_2D(xx,yy,sz,sz,15.0) \n",
    "\n",
    "# Let's image this to make sure it's what we want \n",
    "plt.figure(figsize=(10,10))\n",
    "plt.imshow(LP_Filter, origin='lower') \n"
   ]
  },
  {
   "cell_type": "code",
   "execution_count": null,
   "metadata": {},
   "outputs": [],
   "source": [
    "### STUDENT CELL 2.1 ###"
   ]
  },
  {
   "cell_type": "code",
   "execution_count": null,
   "metadata": {},
   "outputs": [],
   "source": [
    "### STUDENT CELL 2.2 ###"
   ]
  },
  {
   "cell_type": "code",
   "execution_count": null,
   "metadata": {},
   "outputs": [],
   "source": [
    "### STUDENT CELL 2.3 ###"
   ]
  },
  {
   "cell_type": "markdown",
   "metadata": {},
   "source": [
    "Now that we have seen 1d and 2d Fourier Transforms, we have the primary ingredient to understand..."
   ]
  },
  {
   "cell_type": "markdown",
   "metadata": {},
   "source": [
    "### CONVOLUTION ###"
   ]
  },
  {
   "cell_type": "markdown",
   "metadata": {},
   "source": [
    "In functional analysis, the operation of convolution describes a mathematical operator between two functions that creates a third as a result of a shifted integral. \n",
    "\n",
    "In practice it creates a function that shows how one function is modified by the other. This modification is sometimes referred to as \"smoothed\" because convolution is often performed with regular functions, but that not need be always the case.\n",
    "\n",
    "In maths, the operation of convolution will be represented by\n",
    "\n",
    "$$ f*g \\rightarrow (f * g)(x) = \\int ^{\\infty} _{-\\infty} f(x')g(x-x')dx' = \\int ^{\\infty} _{-\\infty} f(x-x')g(x')dx'$$\n",
    "\n",
    "sometimes the $\\circledast  $ is also used in place of $*$. "
   ]
  },
  {
   "cell_type": "markdown",
   "metadata": {},
   "source": [
    "You can check the <em><a href='https://en.wikipedia.org/wiki/Convolution'> Convolution</a></em> page on wikipedia for\n",
    "some intuitive animated gifs showing how (1D) convolution in time produces convolved time response functions and for a full list of convolution properties.\n",
    "\n",
    "Here we will focus on one in particular aspect which is called the \"Convolution theorem\".\n",
    "\n",
    "The <b> Convolution theorem </b> states that <em> the Fourier transform of the convolution of two functions is proportional to the product of the Fourier transforms of the two functions.</em> Or otherwise\n",
    "\n",
    "$$ \\mathscr{F}(f*g) \\propto \\mathscr{F}(f)\\cdot\\mathscr{F}(g)$$\n",
    "\n",
    "(In fact it would be \"equal\" other than it is multiplied by a normalization constant that depends on the specific normalization of the Fourier transforms). Using $\\mathscr{F}$ to represent a Fourier transform.\n",
    "\n",
    "Why is this important? Because it allows us to replace the complex procedure of convolution (or deconvolution) by a simple multiplication (or division)*.\n",
    "\n",
    "(*) Not without its issues..."
   ]
  },
  {
   "cell_type": "markdown",
   "metadata": {},
   "source": [
    "For example, let's say we wanted to observe a point source in the sky with a telescope that has a given beam which we can represent with a gaussian, we would observe the convolution of a given field of point sources in the sky, with such a gaussian. This would be a tedious operation, but can be (in principle) handled by a simple pair of Fourier transforms and a product."
   ]
  },
  {
   "cell_type": "markdown",
   "metadata": {},
   "source": [
    "#### PRACTICAL EXAMPLE"
   ]
  },
  {
   "cell_type": "markdown",
   "metadata": {},
   "source": [
    "In point of fact, let us consider the image we used a while ago as if it were the true representation of the objects in the sky (i.e. viewed with a telescope of \"infinite size\" but very poor efficiency).\n",
    "Let us then assume that we have a telescope beam which is expressed by a gaussian of a certain size (let's say a small number in pixel size, like a FWHM = 1.1)\n",
    "[FWHM = Full-Width at Half-Maximum]"
   ]
  },
  {
   "cell_type": "markdown",
   "metadata": {},
   "source": [
    "Let us define a small array of points that describes such a gaussian. We won't need this to be large array given the size of the function (say 11x11)."
   ]
  },
  {
   "cell_type": "code",
   "execution_count": null,
   "metadata": {},
   "outputs": [],
   "source": [
    "#We can use the same gaussian function used earlier:\n",
    "sz = 11\n",
    "tmp  = np.linspace(0,sz,sz*sz)\n",
    "tmp2 = np.reshape(tmp,(sz,sz))\n",
    "yy = np.floor(tmp2)\n",
    "tmp3 = sz*(tmp2-yy)\n",
    "xx = np.floor(tmp3)\n",
    "\n",
    "beam = gauss_2D(xx,yy,(sz-1)/2,(sz-1)/2,1.0) \n",
    "\n",
    "# Let's image this to make sure it's what we want \n",
    "plt.figure()                              \n",
    "plt.imshow(beam, origin='lower') \n"
   ]
  },
  {
   "cell_type": "markdown",
   "metadata": {},
   "source": [
    "Now, if we wanted to perform a convolution in 2D of the original image with this array, we'd have to proceed as follows:\n",
    "<ol>\n",
    "    <li> Extend the original array by the size of the conolving array*</li>\n",
    "    <li> Create a new array for the convolved image where each element is the result of the integral of the product of the overlap of this array on the other image placed accordingly**</li>\n",
    "</ol>\n",
    "\n",
    "(*) The first point to recognize is that in a convolution one needs to satisfy an appropriate border condition or make certain assumptions. If one adopts the 1D expression literally, then the two images that are convolved could be infinitely extended making things very complicated. Here we assume that anywhere outside both our image and our kernel, these images are $=0$ allowing us to reduce the limits of our integral (or in our case the extent of our array sums).\n",
    "\n",
    "(**) The second point is the point of application. In many 1D cases (especially time convolution), one has to specify if the convolution occurs at one end of the kernel used for the convolution or at the center... this is just a matter of definition and impacts only as a shift to the final result (hence the importance in the time domain.\n"
   ]
  },
  {
   "cell_type": "code",
   "execution_count": null,
   "metadata": {},
   "outputs": [],
   "source": [
    "shape = large.shape\n",
    "sz = int(shape[0])\n",
    "temp = np.zeros((sz+22,sz+22),dtype=float)\n",
    "\n",
    "temp[11:11+sz,11:11+sz]=large\n",
    "plt.rcParams['figure.figsize'] = 15,7 \n",
    "plt.figure()                              # You should see below the image (left) compared to the fit (right)\n",
    "plt.subplot(131)\n",
    "plt.imshow(temp,origin='lower',vmin=0,vmax=0.01) \n",
    "\n",
    "#Now let's create the convolved host array\n",
    "convolved = np.zeros((sz+22,sz+22),dtype=float)\n",
    "\n",
    "normz = np.sum(beam)\n",
    "for kx in range(sz+11):\n",
    "    for ky in range(sz+11):\n",
    "        convolved[kx+5,ky+5] = np.sum(temp[kx:11+kx,ky:11+ky]*beam)/normz\n",
    "\n",
    "plt.subplot(132)\n",
    "plt.imshow(convolved[11:sz+11,11:sz+11],origin='lower',vmin=0,vmax=0.01) \n",
    "\n",
    "###             \n",
    "# TO DIRECTLY COMPARE YOUR LOW PASS FILTERED IMAGE, PUT THE NAME OF THE VARIABLE YOU USED FOR IT\n",
    "# IN THE SUBPLOT BELOW AND UNCOMMENT IT\n",
    "###\n",
    "#plt.subplot(133)\n",
    "#plt.imshow(abs(LP_filtered_image), origin='lower',vmin=0,vmax=0.01) \n",
    "#plt.title('Low-Pass filtered image')\n"
   ]
  },
  {
   "cell_type": "markdown",
   "metadata": {},
   "source": [
    "This looks remarkably similar to the Low Pass filtered image we already obtained... how is this possible?\n",
    "\n",
    "Let us see if the Convolution theorem helps with this:\n",
    "\n",
    "We have just convolved our image (let us call the image \"$g$\") with a kernel or \"beam\" (\"$b$\") which has been shifted across the image and integrated. So according to our notation we can write this as\n",
    "$$(g*b)$$ \n",
    "while the filtered image is the Fourier transform of the product of the Fourier transform of the image ($G=\\mathscr{F}(g)$) and a 2D-filter $F$. So we can equally write this as \n",
    "$$\\mathscr{F}(G\\cdot F)$$\n",
    "\n",
    "If these two are equal (and recalling that the Fourier transform of a Fourier transform brings you back to the original function (with the appropriate normalization constants), we can rewrite this as:\n",
    "\n",
    "$$(g*b) = \\mathscr{F}(G\\cdot F)$$\n",
    "\n",
    "and Fourier transforming both sides\n",
    "\n",
    "$$\\mathscr{F}(g*b) = G\\cdot F$$\n",
    "\n",
    "which due to the convolution theorem implies that this is possible only if the 2D frequency filter $F=\\mathscr{F}(b)$ is the Fourier transform of the beam. Let us check if this is close to being true... by Fourier transforming our Filter and comparing it with our convolving beam."
   ]
  },
  {
   "cell_type": "code",
   "execution_count": null,
   "metadata": {},
   "outputs": [],
   "source": [
    "#We still have the function \"LP_filter\" so we can plot this and compare it's Fourier transform to the\n",
    "# small beam function (placed in a larger array only for comparison in the side-by-side plots)\n",
    "\n",
    "plt.figure()                              \n",
    "plt.subplot(131)\n",
    "plt.imshow(LP_Filter, origin='lower') \n",
    "                           \n",
    "\n",
    "beam_fft = np.fft.fft2(LP_Filter)\n",
    "#remember we need to do the tedious re-tiling\n",
    "\n",
    "#Now the same for the HP\n",
    "shape = beam_fft.shape\n",
    "sz = int(shape[0]/2)\n",
    "btemp = np.zeros((2*sz,2*sz),dtype=complex)\n",
    "btemp[sz:,sz:]=beam_fft[:sz,:sz]\n",
    "btemp[:sz,:sz]=beam_fft[sz:,sz:]\n",
    "btemp[:sz,sz:]=beam_fft[sz:,:sz]\n",
    "btemp[sz:,:sz]=beam_fft[:sz,sz:]\n",
    "\n",
    "btemp = btemp/np.max(btemp)\n",
    "\n",
    "ctemp = np.zeros((2*sz,2*sz),dtype=float)\n",
    "ctemp[sz-5:sz+6,sz-5:sz+6] = beam\n",
    "\n",
    "plt.subplot(132)\n",
    "plt.imshow(abs(btemp),origin='lower')\n",
    "plt.subplot(133)\n",
    "plt.imshow(ctemp,origin='lower')"
   ]
  },
  {
   "cell_type": "markdown",
   "metadata": {},
   "source": [
    "## Short Task 3 - Comments and deconvolution.\n",
    "<div class=\"alert alert-success\">\n",
    "\n",
    "1. Aside from having just \"experienced\" the Convolution theorem by applying it directly to imaging. Comment on all aspects of this process.\n",
    "\n",
    "2. Consider the fact that deconvolution follows the same (but inverted) logic.\n",
    "\n",
    "3. Try and perform a simple deconvolution (reversing the steps and making sure that the Convolution theorem is still followed).\n",
    "\n",
    "4. What comments or conclusions can you state after attempting to perform it (or even ahead of this knowing what it entails).\n",
    "</div>"
   ]
  },
  {
   "cell_type": "code",
   "execution_count": null,
   "metadata": {},
   "outputs": [],
   "source": [
    "### STUDENT CELLS ###"
   ]
  },
  {
   "cell_type": "markdown",
   "metadata": {},
   "source": [
    "#### STUDENT MARKDOWN CELL ####"
   ]
  },
  {
   "cell_type": "markdown",
   "metadata": {},
   "source": [
    "## Diffraction and the Airy Disc\n",
    "\n",
    "The other thing we noticed is that the Fourier Transform of a Gaussian is still a Gaussian!\n",
    "\n",
    "This is true and points to the fact that <b> Fourier Transform pairs </b> are another important concept that has other astronomical implications... more specifically in instrumentation."
   ]
  },
  {
   "cell_type": "markdown",
   "metadata": {},
   "source": [
    "For example, the Fourier transform of a circle disc \n",
    "$$ f(r) = 1 ; r\\le R $$\n",
    "$$ f(r) = 0 ; r>R $$\n",
    "is an Airy function which is often expressed as:\n",
    "$$ A(\\theta) = A_0 \\biggl[ \\frac{2J_1(\\tilde{x})}{\\tilde{x}} \\biggr] ^2   ;   \\tilde{x} = 2\\pi R \\sin(\\theta)/\\lambda $$\n",
    "\n",
    "If you recall your diffraction limit... now you start to see, given that the diameter $D=2R$ where the $\\lambda / D$ is coming from... and if you plot it you can also see where the $1.22$ factor comes from.\n",
    "This is done in the cell below for you."
   ]
  },
  {
   "cell_type": "code",
   "execution_count": null,
   "metadata": {},
   "outputs": [],
   "source": [
    "import scipy.special as scy\n",
    "x = np.arange(-3,3,0.1)\n",
    "airy = (scy.jv(1,x*np.pi)/(x*np.pi))**2\n",
    "plt.plot(x,airy,'r')\n",
    "plt.title('Not so much a carefully scaled plot - just a shape reminder')\n",
    "plt.xticks(np.arange(-3,3,step=0.2))\n",
    "plt.ylim(0,np.max(airy))"
   ]
  },
  {
   "cell_type": "markdown",
   "metadata": {},
   "source": [
    "Of course the Airy function is not exactly a comforable function to use... so we tend to approximate this to a Gaussian... moreover, when dealing with ground based telescopes, seeing gets in the way anyway, so the approximation is not so bad."
   ]
  },
  {
   "cell_type": "markdown",
   "metadata": {},
   "source": [
    "## Short Task 4 - Comments and Gaussian fit.\n",
    "<div class=\"alert alert-success\">\n",
    "\n",
    "1. Comment on why, if the Airy disc is the Fourier transform of a disk, it represents the closest psf if unaltered by seeing.\n",
    "\n",
    "2. Use previously written code (Session 2) to fit a gaussian to this shape and compare the FWHM to work out the error we commit in this approximation.\n",
    "</div>"
   ]
  },
  {
   "cell_type": "markdown",
   "metadata": {},
   "source": [
    "#### STUDENT MARKDOWN CELL ####"
   ]
  },
  {
   "cell_type": "code",
   "execution_count": null,
   "metadata": {},
   "outputs": [],
   "source": [
    "### STUDENT CELLS ###"
   ]
  },
  {
   "cell_type": "markdown",
   "metadata": {},
   "source": [
    "In what follows is an explanation of how to perform the fitting of a 2D function (which is somewhat tedious due to the inherent 1D nature of the statistical fit routine used). All of this is done for you and is incredibly useful - and important - for the final python task.\n",
    "\n",
    "In the last session (4) we saw how to fit 1-D functions and to manipulate the outcomes in different ways (normalization, integration and other combinations). \n",
    "The two dimensional equivalent is conceptually the same exercise, but involves two dimensionaly arrays. \n",
    "\n",
    "As always let us import the same set of modules that we are likely to need (you can always come back to this cell and add more and re-run the Kernel if you need to.\n",
    "Check the demonstration python file \"d5_PHAS0020-Session5-MorePlotTypes\" on Moodle to add the necessary module for 3D plots that might come in handy, and more in general to look at a whole range of interesting ways to plot 2D data."
   ]
  },
  {
   "cell_type": "code",
   "execution_count": null,
   "metadata": {},
   "outputs": [],
   "source": [
    "import statistics as stats\n",
    "from scipy import optimize\n",
    "\n",
    "#To introduce a range of 3D plots, we need to import another library\n",
    "from mpl_toolkits.mplot3d import Axes3D\n",
    "from matplotlib import cm"
   ]
  },
  {
   "cell_type": "markdown",
   "metadata": {},
   "source": [
    "### What is a Point Spread Function and why is it relevant to astronomy ###\n",
    "Details on PSFs and how they relate to astronomy and astronomical instrumentation can be found in almost every text of observational astronomy. You can find some additional information on:\n",
    "\n",
    "D. Scott Birney, G. Gonzalez, D. Oesper, Observational Astronomy (2nd edition), ISBN 0 521\n",
    "853705 (Cambridge University Press, 2006) – Also available online at UCL-Explore\n",
    "\n",
    "or\n",
    "\n",
    "F. Chromey, To Measure the Sky: An Introduction to Observational Astronomy (2nd Edition),\n",
    "ISBN: 978-1-107-572560 (Cambridge University Press, 2016). ) – Also available online at UCLExplore\n",
    "\n",
    "But the single best definition that can suit our initial purpose can be borrowed by <a href='https://en.wikipedia.org/wiki/Point_spread_function'> Wikipedia </a> and is:\n",
    "\n",
    "<em>\"The point spread function (PSF) describes the response of an imaging system to a point source or point object.\"</em>\n",
    "\n",
    "We will get to the details of how the psf is generated, but for now let us look at this from an empirical point and simply observe how the response to a point source (in our case a star- which is as \"point-like\" as it gets) is often dominated by the <a href='https://en.wikipedia.org/wiki/Astronomical_seeing#The_full_width_at_half_maximum_(FWHM)_of_the_seeing_disc'>astronomical \"seeing\"</a> of the site rather than from instrumental features.\n",
    "\n",
    "For now, we are interested in the final seeing disc that is obtained in an image.\n",
    "\n",
    "As such let us consider a small portion of an image taken at UCLO where we have isolated a relatively bright star."
   ]
  },
  {
   "cell_type": "code",
   "execution_count": null,
   "metadata": {},
   "outputs": [],
   "source": [
    "# Let us start from a (by now) familiar function: a gaussian\n",
    "# To define this properly we will need to create the 2D equivalent of our usual 1D x vectors.\n",
    "# This can be done in a few ways, here we will use that which is explained in detail in \n",
    "# the \"MorePlotTypes\" notebook I have made available on Moodle.\n",
    "size=100\n",
    "temp  = np.linspace(0,size,size*size)\n",
    "temp2 = np.reshape(temp,(size,size))\n",
    "yy = np.floor(temp2)\n",
    "temp3 = size*(temp2-yy)\n",
    "xx = np.floor(temp3)\n",
    "\n",
    "#We can now use an easily defined gaussian to create our 2D function:\n",
    "\n",
    "def gauss_2D(x,y,x0,y0,sigma):\n",
    "    '''Returns a symmetric 2D gaussian with a given sigma value\n",
    "    - input x0,y0 - the center of the gaussian\n",
    "    - sigma : the symmetric sigma of the gaussian'''\n",
    "    g2d = np.exp(-((x-x0)**2+(y-y0)**2)/(2*sigma^2)) # gaussian normalized to 1 at its peak\n",
    "    return g2d\n",
    "\n",
    "Gauss_test = gauss_2D(xx,yy,40,40,20) \n",
    "# We can then plot this in an image or a contour plot:\n",
    "plt.figure()\n",
    "plt.subplot(121)\n",
    "plt.imshow(Gauss_test, origin='lower') \n",
    "plt.subplot(122)\n",
    "\n",
    "plt.contour(xx,yy,Gauss_test,levels=[0.001,0.01,0.1,0.2,0.5,0.99,0.999])\n",
    "# or uncomment the following two lines to ask for a set of contour \n",
    "# lines equally spaced according to the range of the data to be plotted\n",
    "#\n",
    "#ncontours=10\n",
    "#plt.contour(xx,yy,Gauss_test,ncontours)\n",
    "\n",
    "plt.grid()                 # include gridlines on the plot.\n",
    "plt.axis('scaled')         # aspect ratio 1:1"
   ]
  },
  {
   "cell_type": "code",
   "execution_count": null,
   "metadata": {},
   "outputs": [],
   "source": [
    "plt.rcParams['figure.figsize'] = 15,8\n",
    "fig = plt.figure()\n",
    "ax = fig.add_subplot(1,2,1, projection='3d')\n",
    "ax = fig.gca(projection='3d')\n",
    "msurf = ax.plot_wireframe(xx, yy, Gauss_test, rstride=2, cstride=2)\n",
    "ax = fig.add_subplot(1,2,2, projection='3d')\n",
    "ax = fig.gca(projection='3d')\n",
    "surf = ax.plot_surface(xx, yy, Gauss_test, cmap=cm.coolwarm)\n",
    "plt.show"
   ]
  },
  {
   "cell_type": "markdown",
   "metadata": {},
   "source": [
    "### Task 5 - Finding the PSF/seeing of a given image ###\n",
    "While it is more common to talk about PSF in relation to a given instrument, many ground based telescopes have a psf which is dominated by \"seeing\". As the seeing is itself dependent on atmospheric conditions, it is not a constant of a given system or telescope and therefore cannot be singularly identified for such system but can be referred to a given image.\n",
    "\n",
    "<div class=\"alert alert-success\"> \n",
    "Task 5a:\n",
    "    <ol>\n",
    "        <li> Read Part 1. A more generic 2D gaussian is defined below to be able to fit the most \n",
    "            generic gaussian possible. </li>\n",
    "        <li> Look at the definition and then add an appropriate Markdown cell above the cell with the function correctly defined.</li> \n",
    "    </ol>\n",
    "</div>"
   ]
  },
  {
   "cell_type": "code",
   "execution_count": null,
   "metadata": {},
   "outputs": [],
   "source": [
    "# Let us import the necessary modules to read in a small fits file (with no header)\n",
    "from astropy.io import fits\n",
    "\n",
    "fits_image_filename = 's5b_image.fits'\n",
    "HDUlist = fits.open(fits_image_filename)\n",
    "image1 = HDUlist[0].data                     # As this fits file was created just to grab a small frame of an image, \n",
    "                                             # There is no header associated with it so the first and only element (0)\n",
    "                                             # is the image we need\n",
    "image1 = image1-np.min(image1)\n",
    "image1 = image1/np.max(image1)\n",
    "plt.imshow(image1,origin='lower')"
   ]
  },
  {
   "cell_type": "markdown",
   "metadata": {},
   "source": [
    "As we see there is only one dominant star here so we can try and fit a gaussian to this to check the size and position of this"
   ]
  },
  {
   "cell_type": "markdown",
   "metadata": {},
   "source": [
    "##### STUDENT MARKDOWN CELL  "
   ]
  },
  {
   "cell_type": "code",
   "execution_count": null,
   "metadata": {},
   "outputs": [],
   "source": [
    "## In addition to having defined the function for you, and because of how optimize works (inherently in 1D) we need \n",
    "### to ravel the data (or flatten it) and the same goes for the function which needs redifining with a slight add-on\n",
    "\n",
    "def Gauss2D(x, mux, muy, sigmax, sigmay, amplitude, offset, rotation):\n",
    "    assert len(x) == 2\n",
    "    X = x[0]\n",
    "    Y = x[1]\n",
    "    A = (np.cos(rotation)**2)/(2*sigmax**2) + (np.sin(rotation)**2)/(2*sigmay**2)\n",
    "    B = (np.sin(rotation*2))/(4*sigmay**2) - (np.sin(2*rotation))/(4*sigmax**2)\n",
    "    C = (np.sin(rotation)**2)/(2*sigmax**2) + (np.cos(rotation)**2)/(2*sigmay**2)\n",
    "    G = amplitude*np.exp(-((A * (X - mux) ** 2) + (2 * B * (X - mux) * (Y - muy)) + (C * (Y - muy) ** 2))) + offset\n",
    "    return G.ravel()\n",
    "\n",
    "### This has now returned a \"G\" which is 1D as a raster scan of our 2D function\n",
    "###-----------------------------------------------------------------------------\n",
    "### Let us now create an array of similarly unpacked x and y data to act as the x and y coordinates of the image\n",
    "\n",
    "x1d = np.arange(100, dtype=float)   # A 1D array of N side\n",
    "y1d = np.arange(100, dtype=float)   # A 1D array of N side\n",
    "xx , yy = np.meshgrid(x1d, y1d)     # Two unpacked 2D arrays NxN with both set of coordinates.\n",
    "\n",
    "size = xx.shape\n",
    "x = np.vstack((xx.ravel(), yy.ravel()))   # A 2xN^2 array with the pair of coordinates corresponding to the unpacked data.\n",
    "y = image1.ravel()                        # Unpacked data (1xN^2)\n",
    "\n",
    "po = np.asarray([60.,45., 3., 3., 1.0, 0., 0.], dtype=float) #Build the array of parameters for initial guess\n",
    "\n",
    "popt,pcov = optimize.curve_fit(Gauss2D, x, y, po) #Use our generic 2D gaussian fit and fit the data.\n",
    "print('Optimized Parameters :',popt)\n",
    "\n",
    "z_fit_1d = Gauss2D(x, *popt)              # Create the unpacked fit\n",
    "Z_fit = z_fit_1d.reshape(size)            # Reshape it as the original NxN\n",
    "\n",
    "plt.figure()                              # You should see below the image (left) compared to the fit (right)\n",
    "plt.subplot(121)\n",
    "plt.imshow(image1, origin='lower') \n",
    "plt.subplot(122)\n",
    "plt.imshow(Z_fit, origin='lower') "
   ]
  },
  {
   "cell_type": "markdown",
   "metadata": {},
   "source": [
    "A moment of reflection:\n",
    "\n",
    "The process which is underlying in the \"black box\" of the optimization routine is the same Least Square optimization which can be viewed in more detail here."
   ]
  },
  {
   "cell_type": "code",
   "execution_count": null,
   "metadata": {},
   "outputs": [],
   "source": [
    "# Let us get a little \"closer\" to the star and check our fit by repeating the same procedure:\n",
    "\n",
    "side = 21\n",
    "cenx = np.round(popt[0])\n",
    "ceny = np.round(popt[1])\n",
    "subset = image1[int(ceny-side/2):int(ceny+side/2),int(cenx-side/2):int(cenx+side/2)]\n",
    "\n",
    "x1d = np.arange(side, dtype=float)\n",
    "y1d = np.arange(side, dtype=float)\n",
    "xx, yy = np.meshgrid(x1d, y1d)\n",
    "size = xx.shape\n",
    "fx = np.vstack((xx.ravel(), yy.ravel()))\n",
    "fy = subset.ravel()\n",
    "\n",
    "po = np.asarray([side/2,side/2, popt[2], popt[3], popt[4], popt[5], popt[6]], dtype=float)\n",
    "\n",
    "popt2,pcov2 = optimize.curve_fit(Gauss2D, fx, fy, po)\n",
    "\n",
    "z_fit_1d = Gauss2D(fx, *popt2)\n",
    "Z_fit2 = z_fit_1d.reshape(size)\n",
    "\n",
    "plt.figure()\n",
    "plt.subplot(121)\n",
    "plt.imshow(subset, origin='lower') \n",
    "plt.subplot(122)\n",
    "plt.imshow(Z_fit2, origin='lower') "
   ]
  },
  {
   "cell_type": "markdown",
   "metadata": {},
   "source": [
    "We can also view this by overlapping image and the contour as overlay. On the right a surface plot of the fit is shown."
   ]
  },
  {
   "cell_type": "code",
   "execution_count": null,
   "metadata": {},
   "outputs": [],
   "source": [
    "#contours = plt.contour(X, Y, Z, 3, colors='black')\n",
    "#plt.clabel(contours, inline=True, fontsize=8)\n",
    "fig = plt.figure()\n",
    "ax = fig.add_subplot(1,2,1)\n",
    "contour = plt.contour(xx,yy,Z_fit2, 6, colors='black')\n",
    "plt.imshow(subset, extent=[0, 20, 0, 20], origin='lower', cmap='gist_rainbow', alpha=0.5)\n",
    "plt.colorbar()\n",
    "plt.axis(aspect='image');\n",
    "ax = fig.add_subplot(1,2,2, projection='3d')\n",
    "ax.plot_surface(xx,yy,subset, cmap=\"gist_rainbow\", lw=0.5, rstride=1, cstride=1)\n",
    "ax.contour(xx,yy,Z_fit2, 10, cmap=\"gist_rainbow\", linestyles=\"solid\", offset=1.2)\n",
    "plt.show()\n",
    "\n",
    "plt.show"
   ]
  },
  {
   "cell_type": "markdown",
   "metadata": {},
   "source": [
    "Let us look in detail at the parameter outputs and how they compare to the figure above.\n",
    "If you've defined the function correctly earlier\n",
    "<div class=\"alert alert-success\"> \n",
    "Task 5b:\n",
    "    <ol>\n",
    "        <li> Replace the String \"Par..\" in the cell below for each parameter with an appropriate string that addresses the parameter correctly. The first one has been done for you as an example. </li>\n",
    "    </ol>\n",
    "</div>"
   ]
  },
  {
   "cell_type": "code",
   "execution_count": null,
   "metadata": {},
   "outputs": [],
   "source": [
    "### STUDENT TO MODIFY STRINGS HERE ###\n",
    "print('List of Parameter outputs')\n",
    "print('-------------------------')\n",
    "print('x-coordinate of fitted gaussian peak:','{:2.2f}'.format(popt2[0]))\n",
    "print('Par 2:',popt2[1])\n",
    "print('Par 3:',popt2[2])\n",
    "print('Par 4:',popt2[3])\n",
    "print('Par 5:',popt2[4])\n",
    "print('Par 6:',popt2[5])\n",
    "print('Par 7:',popt2[6])\n"
   ]
  },
  {
   "cell_type": "markdown",
   "metadata": {},
   "source": [
    "Now let us take a deeper look at the entire image by lowering the visual threshold (i.e. looking at the lowest 10% of the image value range."
   ]
  },
  {
   "cell_type": "code",
   "execution_count": null,
   "metadata": {},
   "outputs": [],
   "source": [
    "fits_image_filename = 's5b_large_image.fits'\n",
    "HDUlist = fits.open(fits_image_filename)\n",
    "large = HDUlist[0].data                     # As this fits file was created just to grab a small frame of an image, \n",
    "                                             # There is no header associated with it so the first and only element (0)\n",
    "                                             # is the image we need\n",
    "\n",
    "w = np.where(large < np.median(large))\n",
    "large[w] = np.median(large)\n",
    "large = large/np.max(large)\n",
    "\n",
    "#Take a subset 300x300\n",
    "subset = large[500:799,800:1099]\n",
    "plt.imshow(subset,origin='lower',vmin=0,vmax=0.1)\n"
   ]
  },
  {
   "cell_type": "markdown",
   "metadata": {},
   "source": [
    "In the following cell we iterate through the stars in a \"destructive\" way. We do this by:\n",
    "1. Finding the peak of the image\n",
    "2. Isolating a small \"stamp\" or subset image around those coordinates\n",
    "3. Performing the same fit done above\n",
    "4. replacing that \"stamp\" in the original image with a flat array equal to the image median (so that the next highest star will noe be the peak)\n",
    "5. Repeat steps from 1 to 4."
   ]
  },
  {
   "cell_type": "code",
   "execution_count": null,
   "metadata": {},
   "outputs": [],
   "source": [
    "large = HDUlist[0].data  \n",
    "w = np.where(large < np.median(large))\n",
    "large[w] = np.median(large)\n",
    "large = large/np.max(large)\n",
    "\n",
    "#Take a subset 300x300\n",
    "bsize=300\n",
    "y0 = 500\n",
    "x0 = 800\n",
    "subset = large[y0:y0+bsize-1,x0:x0+bsize-1]\n",
    "\n",
    "k = 0\n",
    "box = 21\n",
    "plt.rcParams['figure.figsize'] = 14,7\n",
    "\n",
    "#create a host array\n",
    "sig_x = []\n",
    "sig_y = []\n",
    "theta = []\n",
    "while k < 3:\n",
    "    k = k +1\n",
    "    wmax = np.where(subset[box:bsize-box,box:bsize-box] == np.max(subset[box:bsize-box,box:bsize-box]))\n",
    "    cenx = np.round(wmax[0])+box\n",
    "    ceny = np.round(wmax[1])+box\n",
    "    print('# ',k,cenx,ceny)\n",
    "    stamp = subset[int(cenx[0]-box/2):int(cenx[0]+box/2),int(ceny[0]-box/2):int(ceny[0]+box/2)]\n",
    "    x1d = np.arange(box, dtype=float)\n",
    "    y1d = np.arange(box, dtype=float)\n",
    "    \n",
    "    xx, yy = np.meshgrid(x1d, y1d)\n",
    "    size = xx.shape\n",
    "    fx = np.vstack((xx.ravel(), yy.ravel()))\n",
    "    fy = stamp.ravel()\n",
    "    \n",
    "    po = np.asarray([side/2,side/2, popt[2], popt[3], popt[4], popt[5], popt[6]], dtype=float)\n",
    "\n",
    "    popt2,pcov2 = optimize.curve_fit(Gauss2D, fx, fy, po)\n",
    "\n",
    "    z_fit_1d = Gauss2D(fx, *popt2)\n",
    "    Z_fit2 = z_fit_1d.reshape(size)\n",
    "    fig = plt.figure()\n",
    "    ax = fig.add_subplot(1,2,1)\n",
    "    contour = plt.contour(xx,yy,Z_fit2, 6, colors='black')\n",
    "    plt.imshow(stamp, extent=[0, box-1, 0, box-1], origin='lower', cmap='gist_rainbow', alpha=0.5)\n",
    "    plt.colorbar()\n",
    "    plt.title('$h=$'+'{:2.3}'.format(popt2[4])+'; $x_0=$'+str(cenx[0])+'; $y_0=$'+str(ceny[0])+ \\\n",
    "              '; $\\sigma _x =$'+'{:2.2}'.format(popt2[2])+'; $\\sigma _y =$'+'{:2.2}'.format(popt2[3]))\n",
    "    plt.axis(aspect='image');\n",
    "    ax = fig.add_subplot(1,2,2)\n",
    "    plt.imshow(subset,origin='lower',vmin=0,vmax=0.1,cmap='gist_rainbow')\n",
    "    plt.arrow(ceny[0]+20,cenx[0]+20,-15,-15,head_width=3)\n",
    "    plt.show\n",
    "    \n",
    "    subset[int(cenx[0]-box/2):int(cenx[0]+box/2),int(ceny[0]-box/2):int(ceny[0]+box/2)] = np.median(subset)\n",
    "    sig_x.append(popt2[2]) \n",
    "    sig_y.append(popt2[3]) \n",
    "    theta.append(popt2[6]) "
   ]
  },
  {
   "cell_type": "markdown",
   "metadata": {},
   "source": [
    "In the above cell, we performed this for the 3 brightest stars. \n",
    "\n",
    "<div class=\"alert alert-success\"> \n",
    "Task 5c (FINAL! Yay!):\n",
    "    <ol>\n",
    "        <li> Add all the relevant comments to the code in the cell above. </li>\n",
    "        <li> Change the loop to perform this a larger number of times (10 should work, but try >10 unless there are error messages</li>\n",
    "        List holders have been created that extract the relevant parameter fits for you. \n",
    "        <li> Make a plot in the cell below of sigX and sig_y vs star number (or index of the loop) and a similar plot for theta and comment on what you see.</li>   \n",
    "    </ol>\n",
    "</div>"
   ]
  },
  {
   "cell_type": "code",
   "execution_count": null,
   "metadata": {},
   "outputs": [],
   "source": [
    "plt.figure()\n",
    "plt.subplot(121)\n",
    "plt.plot(sig_x)\n",
    "plt.plot(sig_y,'r')\n",
    "\n",
    "plt.subplot(122)\n",
    "plt.plot(theta)\n"
   ]
  },
  {
   "cell_type": "markdown",
   "metadata": {},
   "source": [
    "<div class=\"alert alert-warning\">\n",
    "*EXTRA CHALLENGES - Not Marked*\n",
    "\n",
    "<ol>    \n",
    "<li> Test consistency of psf with amplitude. Go back (or copy below the cells above) and extend this to a larger number of stars. (you might even consider using the entire image) and see if (excluding the outliers) there is a trend to the psf size tied to amplitude.</li>\n",
    "<li> Consider finding a way to represent the values of theta as a function of their position on the image. Is there any apparent pattern?</li>\n",
    "</ol>\n",
    "</div>"
   ]
  },
  {
   "cell_type": "code",
   "execution_count": null,
   "metadata": {},
   "outputs": [],
   "source": []
  }
 ],
 "metadata": {
  "kernelspec": {
   "display_name": "Python 3 (ipykernel)",
   "language": "python",
   "name": "python3"
  },
  "language_info": {
   "codemirror_mode": {
    "name": "ipython",
    "version": 3
   },
   "file_extension": ".py",
   "mimetype": "text/x-python",
   "name": "python",
   "nbconvert_exporter": "python",
   "pygments_lexer": "ipython3",
   "version": "3.11.3"
  }
 },
 "nbformat": 4,
 "nbformat_minor": 1
}
