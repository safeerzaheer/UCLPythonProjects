{
 "cells": [
  {
   "cell_type": "markdown",
   "metadata": {},
   "source": [
    "# Session 5 (aid): 2 and 3D plotting and other useful features\n",
    "_Author: g.savini@ucl.ac.uk <br>\n",
    "Updated: 20/01/2021_"
   ]
  },
  {
   "cell_type": "markdown",
   "metadata": {},
   "source": [
    "<div class=\"alert alert-success\">\n",
    "<p>\n",
    "<b>This notebook is to be used as a resource on how to use a range of advanced plots (both two and three-dimensional) for the rappresentation of data, imaging and related tasks.</b>\n",
    "</p>\n",
    "    \n",
    "<p> In this session, you should be able to:\n",
    "<ul>\n",
    " <li> Produce contour and surface plots of two-dimensional scalar data</li>\n",
    " <li> Produce quiver and stream plots of two dimensional vector data</li>\n",
    " <li> Overlay contour plots on images</li>\n",
    " <li> 3D surface plots </li>\n",
    " </ul> </p>\n",
    "\n",
    "The plot types discussed here can be also found on this <a href=\"https://matplotlib.org/mpl_toolkits/mplot3d/tutorial.html\"> link</a>\n",
    "</div>"
   ]
  },
  {
   "cell_type": "markdown",
   "metadata": {},
   "source": [
    "## Contents:\n",
    "\n",
    "* [1. Image mapping and density plots](#imagemapping)\n",
    "* [2. Contour plots](#contourplots)\n",
    "* [3. Plotting vector fields](#vectorfields)"
   ]
  },
  {
   "cell_type": "code",
   "execution_count": null,
   "metadata": {},
   "outputs": [],
   "source": [
    "# plot figures embedded in the notebook\n",
    "%matplotlib inline\n",
    "\n",
    "import numpy as np\n",
    "import matplotlib.pyplot as plt\n",
    "import matplotlib\n",
    "\n",
    "# The following line makes the images a bit larger than default - works better on a large screen\n",
    "plt.rcParams['figure.figsize'] = 15,12"
   ]
  },
  {
   "cell_type": "markdown",
   "metadata": {},
   "source": [
    "##### <a id=\"imagemapping\"></a>1. Image mapping - contour plots"
   ]
  },
  {
   "cell_type": "markdown",
   "metadata": {},
   "source": [
    "You've already used \"standard\" plots and images in our previous sessions.\n",
    "\n",
    "We'll start by looking at a simple example. \n",
    "Let's define two 2D arrays of 400x400 which rappresent the x and y coordinates of all the points on any array of the same size."
   ]
  },
  {
   "cell_type": "code",
   "execution_count": null,
   "metadata": {},
   "outputs": [],
   "source": [
    "asize=100.\n",
    "xtemp = np.arange(-asize/2, asize/2, 1.0)\n",
    "ytemp = np.arange(-asize/2, asize/2, 1.0)\n",
    "xx, yy = np.meshgrid(xtemp, ytemp)\n",
    "rr = np.sqrt((xx/100.0)**2 + (yy/100.0)**2)\n",
    "\n",
    "# Here we show 3 figures. The first has the x coordinate as the value of each pixel, the second, \"y\" and the 3rd \"r\" as the\n",
    "# distance from the center.\n",
    "\n",
    "plt.figure(figsize=(15,12))\n",
    "plt.subplot(231)\n",
    "plt.imshow(xx)\n",
    "plt.subplot(232)\n",
    "plt.imshow(yy)\n",
    "plt.subplot(233)\n",
    "plt.imshow(rr)\n",
    "\n",
    "# This could also be done in a more tedious way\n",
    "msize=100\n",
    "temp  = np.linspace(0,msize,msize*msize)\n",
    "temp2 = np.reshape(temp,(msize,msize))\n",
    "yy2 = np.floor(temp2)\n",
    "temp3 = msize*(temp2-yy2)\n",
    "xx2 = np.floor(temp3)\n",
    "\n",
    "#CHECK\n",
    "#print(cc[0:2,0:2])\n",
    "#print(yy[0:2,0:2])\n",
    "#print(xx[0:2,0:2])\n",
    "\n",
    "rr2 = np.sqrt((xx2-asize/2)**2+(yy2-asize/2)**2)\n",
    "\n",
    "plt.subplot(234)\n",
    "plt.imshow(xx2)\n",
    "plt.subplot(235)\n",
    "plt.imshow(yy2)\n",
    "plt.subplot(236)\n",
    "plt.imshow(rr2)\n",
    "\n",
    "# You can compare the images. These are very similar... but in the second set we were forced to use integers as floats\n",
    "# can't always be used in python to define arrays"
   ]
  },
  {
   "cell_type": "markdown",
   "metadata": {},
   "source": [
    "What you are seeing above is arrays of \"x\", \"y\" and \"r\" values (from left to right).\n",
    "\n",
    "The \"r\" are coordinate values (like looking at a cone from the top. In fact let's see if there is a way to view these quantities as if they were a surface of values."
   ]
  },
  {
   "cell_type": "code",
   "execution_count": null,
   "metadata": {},
   "outputs": [],
   "source": [
    "#To introduce a range of 3D plots, we need to import another library\n",
    "from mpl_toolkits.mplot3d import Axes3D\n",
    "from matplotlib import cm\n",
    "\n",
    "fig = plt.figure()\n",
    "ax = fig.gca(projection='3d')\n",
    "\n",
    "msize=100.\n",
    "XX = np.arange(-msize/2, msize/2, 1.0)\n",
    "YY = np.arange(-msize/2, msize/2, 1.0)\n",
    "XX, YY = np.meshgrid(XX, YY)\n",
    "RR = np.sqrt((XX/100.0)**2 + (YY/100.0)**2)\n",
    "\n",
    "# We can plot this as a wireframe...\n",
    "surf = ax.plot_wireframe(XX, YY, RR, rstride=5, cstride=5)\n",
    "plt.show"
   ]
  },
  {
   "cell_type": "code",
   "execution_count": null,
   "metadata": {},
   "outputs": [],
   "source": [
    "# We can plot this as a surface...\n",
    "fig = plt.figure()\n",
    "ax = fig.gca(projection='3d')\n",
    "surf = ax.plot_surface(XX, YY, RR, cmap=cm.coolwarm) # Where we have loaded a specific color table to help visualize z values\n",
    "plt.show"
   ]
  },
  {
   "cell_type": "markdown",
   "metadata": {},
   "source": [
    "Or we can simply look at the experimental points that exist in the array being visualized"
   ]
  },
  {
   "cell_type": "code",
   "execution_count": null,
   "metadata": {},
   "outputs": [],
   "source": [
    "# We can plot this as a scatter plot.\n",
    "# To show this better, we will recreate a sparser array:\n",
    "\n",
    "msize=10.\n",
    "X2 = np.arange(-msize/2, msize/2, 1.0)\n",
    "Y2 = np.arange(-msize/2, msize/2, 1.0)\n",
    "X2, Y2 = np.meshgrid(X2, Y2)\n",
    "R2 = np.sqrt((X2/msize)**2 + (Y2/msize)**2)\n",
    "\n",
    "\n",
    "fig = plt.figure()\n",
    "ax = fig.gca(projection='3d')\n",
    "#surf = ax.scatter(X, Y, R) # FOr default colouring\n",
    "# To add colouring an additional array can be added, but format must be consistent with Nx3 for RGB colour coding\n",
    "fX = X2.flatten()\n",
    "fY = Y2.flatten()\n",
    "fR = R2.flatten()\n",
    "fc = fR\n",
    "surf = ax.scatter(fX, fY, fR, c=fc) # To allow easy creation of the colour vector, we flattened all coordinates prior to plotting\n",
    "plt.show"
   ]
  },
  {
   "cell_type": "markdown",
   "metadata": {},
   "source": [
    "With these arrays defined we can then plot which ever function we see fit... in whichever style is most appropriate."
   ]
  },
  {
   "cell_type": "code",
   "execution_count": null,
   "metadata": {},
   "outputs": [],
   "source": [
    "# Gaussian:\n",
    "GG = np.exp(-(RR)**2/(0.02))\n",
    "# Saddle:\n",
    "SA = XX**2-YY**2\n",
    "\n",
    "plt.rcParams['figure.figsize'] = 15,8\n",
    "fig = plt.figure()\n",
    "\n",
    "ax = fig.gca(projection='3d')\n",
    "ax = fig.add_subplot(1,2,1, projection='3d')\n",
    "surf = ax.plot_wireframe(XX, YY, GG, rstride=5, cstride=5)\n",
    "\n",
    "ax = fig.gca(projection='3d')\n",
    "ax = fig.add_subplot(1,2,2,projection='3d')\n",
    "surf = ax.plot_wireframe(XX, YY, SA, rstride=5, cstride=5)\n",
    "plt.show"
   ]
  },
  {
   "cell_type": "markdown",
   "metadata": {},
   "source": [
    "##  <a id=\"contourplots\"></a>2. Plotting contours and vector fields"
   ]
  },
  {
   "cell_type": "markdown",
   "metadata": {},
   "source": [
    "### Example: electric potential\n",
    "\n",
    "As an example for this, we're going to look at a standard example from electromagnetism that's useful to be able to visualise - the equipotential and electric field for a point charge.\n",
    "\n",
    "The electric potential $V$ due to a point charge $Q$ is given by\n",
    "$$\n",
    "V = \\frac{Q}{4\\pi\\varepsilon_0 r}\n",
    "$$\n",
    "where $r = |\\mathbf{r}|$ is the distance between the point at which we are measuring the potential  and the position of the charge.\n",
    "\n",
    "For these purposes, we'll work in convenient units where $1/(4\\pi\\varepsilon_0) = 1$, and we'll put a point charge of magnitude 1 at a position $\\mathbf{r} = (1,0)$:"
   ]
  },
  {
   "cell_type": "code",
   "execution_count": null,
   "metadata": {},
   "outputs": [],
   "source": [
    "qpos = [2,2] # point charge at position x, y\n",
    "q = 1        # charge is positive, magnitude 1\n",
    "\n",
    "# now we'll create the 2d grid:\n",
    "gridsize = 50j # using a complex number ensures we include the final point. See mgrid documentation.\n",
    "y,x = np.mgrid[-5:5:gridsize, -5:5:gridsize] # create our grid\n",
    "print(\"The grid of x points has shape\", np.shape(x))\n",
    "print(\"The grid of y points has shape\", np.shape(y))"
   ]
  },
  {
   "cell_type": "code",
   "execution_count": null,
   "metadata": {},
   "outputs": [],
   "source": [
    "def potential(x,y,qpos,s):\n",
    "    r_pos = np.sqrt((x-qpos[0])**2+(y-qpos[1])**2)\n",
    "    V = s / r_pos\n",
    "    return V"
   ]
  },
  {
   "cell_type": "markdown",
   "metadata": {},
   "source": [
    "The code cell below will call your function for our grid of x- and y- coordinates to calculate the electric potential due to the positive charge at `qpos`."
   ]
  },
  {
   "cell_type": "code",
   "execution_count": null,
   "metadata": {},
   "outputs": [],
   "source": [
    "V = potential(x,y,qpos,q) # calculates whole grid/matrix of electric potentials for our positive charge\n",
    "\n",
    "print(V) # check that you get an array output!"
   ]
  },
  {
   "cell_type": "markdown",
   "metadata": {},
   "source": [
    "Now we've calculated V, we can plot the equipotentials using the [plt.contour](http://matplotlib.org/api/pyplot_api.html?highlight=contour#matplotlib.pyplot.contour) function. The cell below will do this for us."
   ]
  },
  {
   "cell_type": "code",
   "execution_count": null,
   "metadata": {},
   "outputs": [],
   "source": [
    "# The shape of V should be the same as the shape of x and y that we checked above.\n",
    "print(\"The shape of our electric potential array V is\", np.shape(V))\n",
    "\n",
    "ncontours = 15 # the number of equally spaced (in value space) contour lines to plot. Leave this out to just use the default value\n",
    "\n",
    "# Plot the variable V on the grid defined by x and y, using ncontours contour lines.\n",
    "plt.figure()\n",
    "plt.contour(x,y,V,ncontours)\n",
    "\n",
    "plt.grid()                 # include gridlines on the plot.\n",
    "plt.axis('scaled')         # aspect ratio 1:1\n",
    "plt.axis([-10,10,-10,10]); # specify xlim,ylim for the plot"
   ]
  },
  {
   "cell_type": "markdown",
   "metadata": {},
   "source": [
    "If you have correctly calculated `V`, you should see concentric circles centred on the charge position given in `qpos`. Try changing `qpos` and check that the charge position on the plot moves.\n",
    "\n",
    "We can choose various different settings for the contours, and even combine this with the density plots from above, using plt.imshow. Experiment with the cell below to find the effect you feel best displays the data!"
   ]
  },
  {
   "cell_type": "code",
   "execution_count": null,
   "metadata": {},
   "outputs": [],
   "source": [
    "### STUDENT COMPLETED CELL ###\n",
    "plt.figure()\n",
    "plt.imshow(V,origin=\"lower\",cmap=\"coolwarm\",vmin=0, vmax=4) \n",
    "plt.colorbar();                   # plots a bar indicating which value is mapped to which colour"
   ]
  },
  {
   "cell_type": "markdown",
   "metadata": {},
   "source": [
    "Now we have the equipotentials sorted out, let's consider the electric field, which is of course a vector field. There are two ways of plotting vector fields in matplotlib, we'll look at both of them.\n",
    "\n",
    "Before we can plot anything though, we need to calculate the electric field at each point on our grid of x and y values. This is given in a general form by\n",
    "$$ \\mathbf{E}(\\mathbf{r}) = \\frac{1}{4 \\pi \\varepsilon_0} \\sum_i Q_i \\frac{\\mathbf{r_i}}{|\\mathbf{r}_i|^3} $$\n",
    "\n",
    "Here we're working in units where $1/(4\\pi\\varepsilon_0) = 1$, which simplifies things, and we only have a single charge. We need to calculate the vectors $\\mathbf{r}$ though, which means our expression becomes\n",
    "\n",
    "$$ \\mathbf{E}(x,y) = q \\frac{(x - q_x, y - q_y)}{\\left[(x-q_x)^2 + (y-q_y)^2\\right]^{3/2}} $$\n",
    "where $(q_x, q_y) = $ `qpos`, and $q$ is the magnitude of the charge."
   ]
  },
  {
   "cell_type": "code",
   "execution_count": null,
   "metadata": {},
   "outputs": [],
   "source": [
    "def Epoint(q,qpos,x,y):\n",
    "    Ep = q*([x-qpos[0],y-qpos[1]])/((x-qpos[0])**2+(y-qpos[1])**2)**(1.5)\n",
    "    return Ep"
   ]
  },
  {
   "cell_type": "markdown",
   "metadata": {},
   "source": [
    "Once you've written the function, we can use it to calculate the electric field. This cell will produce two arrays, one containing the x-components of the E-field and one the y-components, for our charge +1 at `qpos`.  "
   ]
  },
  {
   "cell_type": "code",
   "execution_count": null,
   "metadata": {},
   "outputs": [],
   "source": [
    "Ex, Ey = Epoint(1,qpos,x,y) # calculate the electric field"
   ]
  },
  {
   "cell_type": "markdown",
   "metadata": {},
   "source": [
    "We can check the shape of the outputs - this should be the same as the shape of `x` and `y`."
   ]
  },
  {
   "cell_type": "code",
   "execution_count": null,
   "metadata": {},
   "outputs": [],
   "source": [
    "print(\"Shapes of our calculated field arrays:\")\n",
    "print(np.shape(Ex), np.shape(Ey))\n",
    "print(\"Shapes of our grid arrays\")\n",
    "print(np.shape(x), np.shape(y))"
   ]
  },
  {
   "cell_type": "markdown",
   "metadata": {},
   "source": [
    "Again as a check, we can look at the value of the electric field at a single point. Let's choose the top left hand corner of the array, i.e. element [0,0]:"
   ]
  },
  {
   "cell_type": "code",
   "execution_count": null,
   "metadata": {},
   "outputs": [],
   "source": [
    "print(\"Value of the E-field at top LH corner of grid:\", Ex[0,0], Ey[0,0])\n",
    "print(\"Value of the electric potential at the same point:\", V[0,0])"
   ]
  },
  {
   "cell_type": "markdown",
   "metadata": {},
   "source": [
    "We can see from this (if your function is working!) that the E-field is indeed a vector, and is pointing in a direction away from the position of the (positive) charge, exactly as we'd expect."
   ]
  },
  {
   "cell_type": "markdown",
   "metadata": {},
   "source": [
    "Now let's think about how we want to plot this information. As mentioned above, there are two ways of doing this.\n",
    "\n",
    "### \"Quiver\" plot\n",
    "\n",
    "For each point on our x,y grid, this function plots an arrow whose length and direction corresponds to the magnitude and direction of the vector field at that point. Let's see how this looks:"
   ]
  },
  {
   "cell_type": "code",
   "execution_count": null,
   "metadata": {},
   "outputs": [],
   "source": [
    "plt.figure(figsize=(9,9))\n",
    "plt.quiver(x,y,Ex,Ey)\n",
    "plt.plot(qpos[0],qpos[1],\"go\") # plot a small green circle at the position of the charge\n",
    "plt.axis('scaled')             # aspect ratio 1:1\n",
    "plt.title(\"Quiver plot of E-field due to point charge\");"
   ]
  },
  {
   "cell_type": "markdown",
   "metadata": {},
   "source": [
    "This can also be useful to plot polarization vectors on a map."
   ]
  },
  {
   "cell_type": "code",
   "execution_count": null,
   "metadata": {},
   "outputs": [],
   "source": []
  }
 ],
 "metadata": {
  "anaconda-cloud": {},
  "kernelspec": {
   "display_name": "Python 3",
   "language": "python",
   "name": "python3"
  },
  "language_info": {
   "codemirror_mode": {
    "name": "ipython",
    "version": 3
   },
   "file_extension": ".py",
   "mimetype": "text/x-python",
   "name": "python",
   "nbconvert_exporter": "python",
   "pygments_lexer": "ipython3",
   "version": "3.7.4"
  }
 },
 "nbformat": 4,
 "nbformat_minor": 1
}
