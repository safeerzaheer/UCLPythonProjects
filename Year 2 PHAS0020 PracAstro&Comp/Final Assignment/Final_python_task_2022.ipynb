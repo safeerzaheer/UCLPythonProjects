{
 "cells": [
  {
   "cell_type": "markdown",
   "metadata": {},
   "source": [
    "# PHAS0020 - Final Python Task: \"PSF or Aperture Photometry\"\n",
    "### Image combination, Point-Spread-Functions, Flux Calibration and stellar temperatures\n",
    "_Author: g.savini@ucl.ac.uk     (01/02/2022)_"
   ]
  },
  {
   "cell_type": "markdown",
   "metadata": {},
   "source": [
    "<div class=\"alert alert-success\"> \n",
    "\n",
    "**Assessment details**\n",
    "\n",
    "The assessment details can be found on the <em><b> Final_Task_2022.pdf</b></em> file on Moodle. Each task step is detailed and accompanied by relevant quantitative marks. As a project, this task will put to good use the various things you have learnt in the first 5 sessions (which also implies you have a readily available template for many procedures needed). \n",
    "\n",
    "<u>This piece of work is the largest component to this module and is worth 30%. As such do not approach this like a standard script, but more like a lab formal report.</u>\n",
    "\n",
    "**Summative Assessment**\n",
    "\n",
    "In this task you will test the use of all the scripts, tools and techniques you made use of in the last 5 sessions.\n",
    "These include but are not limited to:\n",
    "<ul>\n",
    "<li> Input/output of images; </li>\n",
    "<li> Manipulation of images as arrays of numbers </li>\n",
    "<li> Making use of histograms for rapresentation but also as a means to compare distributions </li>\n",
    "<li> Use the gaussian distribution statistical package to fit gaussians; </li>\n",
    "<li> Extract statistical parameters from images and use them for the purpose of comparison and analysis; </li>\n",
    "<li> Characterizing the psf from 2d fitting; </li>\n",
    "<li> Comparison of photometry findings between aperture photometry and psf photometry; </li>\n",
    "<li> Flux calibration and stellar temperature retrieval; </li>\n",
    "</ul>\n",
    "\n",
    "**Formative Assessment**\n",
    "\n",
    "As part of this task, you might need to go back and review some of the thing you've already seen in previous sessions as\n",
    "well as using these same tools in slightly different ways also exploring additional functionalities or keywords of the same python commands or functions.\n",
    "\n",
    "**Rules of Submission**\n",
    "\n",
    "Please read carefully the rules of submission of this Final Python task \n",
    "on the Moodle tab as they are of paramount importance to make sure your submission satisfies all points.\n",
    "\n",
    "Also, similarly to all other sessions, there will be marks allocated on the basis of good code commenting and code practice \n",
    "as well as detailed text cells explaining your rationale on the code cells written.\n",
    "Remember, the text cells need to summarize this task as a report (including any formulas, equations or images that you think might be necessary.\n",
    "\n",
    "**Task details**\n",
    "\n",
    "The details of the task are explained in a separate short pdf on the same moodle tab as this python file.\n",
    "Here below there will be a few pre-prepared cells that introduce to some manipulation that you might or might not have seen previously in order to get things started.\n",
    "\n",
    "#### Follow the instructions on the Moodle tab and rename this notebook with your student number; when you have completed the task you will upload this notebook to Moodle, and press the Submit button when happy.\n",
    "\n",
    "If there are any functional issues, please <a href=\"mailto:g.savini@ucl.ac.uk\">let me know</a>. But be advised that similarly to a formal report or ICA, and given that all required content has already been seen, \"how to\" questions will be referred to previously executed scripts. \n",
    "</div>\n",
    "\n"
   ]
  },
  {
   "cell_type": "markdown",
   "metadata": {},
   "source": [
    "## Getting started: Importing modules and data\n",
    "\n",
    "The first thing you'll need to do is import the modules you will need. \n",
    "Of course some modules you might need will emerge as you work on things, in which case you can do it then and there.\n",
    "However, for the sake of being tidy, when reorganizing your scripts, make sure you import all modules at the beginning of the script. And explain for each why and what will it be used for.\n",
    "\n",
    "Subsequently make sure you load all images that you'll need for this script. \n",
    "As mentioned above, all instructions for this task will be contained in the Final-python-task pdf file."
   ]
  },
  {
   "cell_type": "code",
   "execution_count": 28,
   "metadata": {},
   "outputs": [],
   "source": [
    "### ALL CELLS TO FOLLOW ARE STUDENT GENERATED CELL ###"
   ]
  }
 ],
 "metadata": {
  "anaconda-cloud": {},
  "kernelspec": {
   "display_name": "Python 3",
   "language": "python",
   "name": "python3"
  },
  "language_info": {
   "codemirror_mode": {
    "name": "ipython",
    "version": 3
   },
   "file_extension": ".py",
   "mimetype": "text/x-python",
   "name": "python",
   "nbconvert_exporter": "python",
   "pygments_lexer": "ipython3",
   "version": "3.7.4"
  }
 },
 "nbformat": 4,
 "nbformat_minor": 1
}
